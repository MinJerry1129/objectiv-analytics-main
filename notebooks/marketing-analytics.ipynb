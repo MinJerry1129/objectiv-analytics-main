{
 "cells": [
  {
   "cell_type": "markdown",
   "metadata": {},
   "source": [
    "This is one of the Objectiv [example notebooks](https://objectiv.io/docs/modeling/example-notebooks/). These notebooks can run [on your own data](https://objectiv.io/docs/modeling/get-started-in-your-notebook/), or you can instead run the [Demo](https://objectiv.io/docs/home/try-the-demo/) to quickly try them out."
   ]
  },
  {
   "cell_type": "markdown",
   "metadata": {},
   "source": [
    "# Marketing Analytics\n",
    "This example notebook shows how you can easily analyze traffic coming from Marketing campaigns, as measured via UTM tags. [See here how to get started in your notebook](https://objectiv.io/docs/modeling/get-started-in-your-notebook/)."
   ]
  },
  {
   "cell_type": "markdown",
   "metadata": {},
   "source": [
    "## Setup\n",
    "We first have to instantiate the model hub and an Objectiv DataFrame object."
   ]
  },
  {
   "cell_type": "code",
   "execution_count": null,
   "metadata": {},
   "outputs": [],
   "source": [
    "# set the timeframe of the analysis\n",
    "start_date = '2022-06-01'\n",
    "end_date = None"
   ]
  },
  {
   "cell_type": "code",
   "execution_count": null,
   "metadata": {},
   "outputs": [],
   "source": [
    "from modelhub import ModelHub\n",
    "from bach import DataFrame\n",
    "import pandas as pd\n",
    "\n",
    "# instantiate the model hub and set the default time aggregation to daily\n",
    "# and set the global contexts that will be used in this example\n",
    "modelhub = ModelHub(time_aggregation='%Y-%m-%d', global_contexts=['http', 'marketing', 'application'])\n",
    "# get a Bach DataFrame with Objectiv data within a defined timeframe\n",
    "df = modelhub.get_objectiv_dataframe(start_date=start_date, end_date=end_date)"
   ]
  },
  {
   "cell_type": "markdown",
   "metadata": {},
   "source": [
    "The `location_stack` column, and the columns taken from the global contexts, contain most of the event-specific data. These columns are JSON typed, and we can extract data from it using the keys of the JSON objects with [`SeriesLocationStack`](https://objectiv.io/docs/modeling/open-model-hub/api-reference/SeriesLocationStack/SeriesLocationStack/) methods, or the `context` accessor for global context columns. See the [open taxonomy example](open-taxonomy-how-to.ipynb#Location-stack-&-global-contexts) for how to use the `location_stack` and global contexts."
   ]
  },
  {
   "cell_type": "code",
   "execution_count": null,
   "metadata": {},
   "outputs": [],
   "source": [
    "# add `feature_nice_name` and `root_location` as columns, so that we can use it for grouping etc. later\n",
    "df['feature_nice_name'] = df.location_stack.ls.nice_name\n",
    "df['root_location'] = df.location_stack.ls.get_from_context_with_type_series(type='RootLocationContext', key='id')"
   ]
  },
  {
   "cell_type": "code",
   "execution_count": null,
   "metadata": {},
   "outputs": [],
   "source": [
    "# derive a specific DataFrame with added marketing contexts\n",
    "df_acquisition = df.copy()\n",
    "# extract referrer and marketing contexts from the respective global context colummns\n",
    "df_acquisition['referrer'] = df_acquisition.http.context.referrer\n",
    "df_acquisition['utm_source'] = df_acquisition.marketing.context.source\n",
    "df_acquisition['utm_medium'] = df_acquisition.marketing.context.medium\n",
    "df_acquisition['utm_campaign'] = df_acquisition.marketing.context.campaign"
   ]
  },
  {
   "cell_type": "code",
   "execution_count": null,
   "metadata": {},
   "outputs": [],
   "source": [
    "# also define a DataFrame with only the sessions that came in via a marketing campaign\n",
    "campaign_sessions = df_acquisition[~df_acquisition['utm_source'].isnull()]['session_id'].unique()\n",
    "df_marketing_only = df_acquisition[df_acquisition['session_id'].isin(campaign_sessions)]"
   ]
  },
  {
   "cell_type": "code",
   "execution_count": null,
   "metadata": {},
   "outputs": [],
   "source": [
    "# define a further selection: which source to select in the below analyses.\n",
    "source_selection = ['twitter', 'reddit']\n",
    "sources = DataFrame.from_pandas(engine=df.engine, df=pd.DataFrame({'sources': source_selection}), convert_objects=True).sources\n",
    "# filter on defined list of UTM Sources\n",
    "df_marketing_selection = df_marketing_only[(df_marketing_only.utm_source.isin(sources))]"
   ]
  },
  {
   "cell_type": "code",
   "execution_count": null,
   "metadata": {},
   "outputs": [],
   "source": [
    "# materialize the DataFrame as temporary tables to reduce the complexity of the underlying queries\n",
    "df_acquisition = df_acquisition.materialize(materialization='temp_table')\n",
    "df_marketing_only = df_marketing_only.materialize(materialization='temp_table')\n",
    "df_marketing_selection = df_marketing_selection.materialize(materialization='temp_table')"
   ]
  },
  {
   "cell_type": "markdown",
   "metadata": {},
   "source": [
    "#### Available dataframes:\n",
    "- `df` = all + `feature_nice_name` + `root_location`.\n",
    "- `df_acquisition` = `df` + referrer + UTMs\n",
    "- `df_marketing_only` = `df_acquisition`, but only sessions with non_null `utm_source`.\n",
    "- `df_marketing_selection` = `df_marketing_only`, but filtered for selection, e.g. only `utm_source` in `{'reddit', 'twitter'}`."
   ]
  },
  {
   "cell_type": "markdown",
   "metadata": {},
   "source": [
    "### Reference\n",
    "* [modelhub.ModelHub](https://objectiv.io/docs/modeling/open-model-hub/api-reference/ModelHub/ModelHub/)\n",
    "* [modelhub.ModelHub.get_objectiv_dataframe](https://objectiv.io/docs/modeling/open-model-hub/api-reference/ModelHub/get_objectiv_dataframe/)\n",
    "* [using global context data](open-taxonomy-how-to.ipynb#Location-stack-&-global-contexts)\n",
    "* [modelhub.SeriesLocationStack.ls](https://objectiv.io/docs/modeling/open-model-hub/api-reference/SeriesLocationStack/ls/)\n",
    "* [bach.DataFrame.from_pandas](https://objectiv.io/docs/modeling/bach/api-reference/DataFrame/from_pandas/)\n",
    "* [bach.Series.isnull](https://objectiv.io/docs/modeling/bach/api-reference/Series/isnull/)\n",
    "* [bach.DataFrame.materialize](https://objectiv.io/docs/modeling/bach/api-reference/DataFrame/materialize/)"
   ]
  },
  {
   "cell_type": "markdown",
   "metadata": {},
   "source": [
    "# Acquisition"
   ]
  },
  {
   "cell_type": "markdown",
   "metadata": {},
   "source": [
    "## Users from marketing"
   ]
  },
  {
   "cell_type": "code",
   "execution_count": null,
   "metadata": {},
   "outputs": [],
   "source": [
    "# show daily number of people coming from marketing campaigns\n",
    "users_from_marketing_daily = modelhub.aggregate.unique_users(df_marketing_selection).sort_index(ascending=False)\n",
    "users_from_marketing_daily.head()"
   ]
  },
  {
   "cell_type": "code",
   "execution_count": null,
   "metadata": {},
   "outputs": [],
   "source": [
    "users_from_marketing_daily.sort_index(ascending=True).to_pandas().plot(kind='bar', figsize=[15,5], title='Daily #users from marketing', xlabel='Day')"
   ]
  },
  {
   "cell_type": "markdown",
   "metadata": {},
   "source": [
    "## Users per source-medium-campaign over full timeframe"
   ]
  },
  {
   "cell_type": "code",
   "execution_count": null,
   "metadata": {},
   "outputs": [],
   "source": [
    "# split users by marketing _campaign_ (based on UTM data)\n",
    "users_per_campaign = modelhub.aggregate.unique_users(df_marketing_selection, ['utm_source', 'utm_medium', 'utm_campaign'])\n",
    "users_per_campaign.reset_index().dropna(axis=0, how='any', subset='utm_source').sort_values(['unique_users'], ascending=False).head(10)"
   ]
  },
  {
   "cell_type": "code",
   "execution_count": null,
   "metadata": {},
   "outputs": [],
   "source": [
    "# Stacked graph per campaign\n",
    "upc = users_per_campaign.to_frame().reset_index()[['utm_source', 'utm_campaign', 'unique_users']]\n",
    "upc = upc.to_pandas().groupby(['utm_source', 'utm_campaign'])\n",
    "upc_pivot = upc.sum().reset_index().pivot(index='utm_source', columns='utm_campaign')['unique_users'].reset_index().sort_values(by=['utm_source'], ascending=False)\n",
    "upc_pivot.plot.bar(x='utm_source', stacked=True)"
   ]
  },
  {
   "cell_type": "markdown",
   "metadata": {},
   "source": [
    "## Users from marketing _source_ per day"
   ]
  },
  {
   "cell_type": "code",
   "execution_count": null,
   "metadata": {},
   "outputs": [],
   "source": [
    "# users by marketing _source_, per day\n",
    "source_users_daily = modelhub.agg.unique_users(df_marketing_selection, groupby=['day', 'utm_source'])\n",
    "source_users_daily = source_users_daily.reset_index()\n",
    "source_users_daily.sort_values('day', ascending=False).head(20)"
   ]
  },
  {
   "cell_type": "markdown",
   "metadata": {},
   "source": [
    "## Users from marketing _campaign_ per day"
   ]
  },
  {
   "cell_type": "code",
   "execution_count": null,
   "metadata": {},
   "outputs": [],
   "source": [
    "# users by marketing _campaign_ (based on UTM data), per day\n",
    "users_per_campaign_daily = modelhub.aggregate.unique_users(df_marketing_selection, ['day', 'utm_source', 'utm_medium', 'utm_campaign'])\n",
    "users_per_campaign_daily = users_per_campaign_daily.reset_index()\n",
    "users_per_campaign_daily.sort_values('day', ascending=False).head(20)"
   ]
  },
  {
   "cell_type": "markdown",
   "metadata": {},
   "source": [
    "## Referrers overall"
   ]
  },
  {
   "cell_type": "code",
   "execution_count": null,
   "metadata": {},
   "outputs": [],
   "source": [
    "# users by referrer in full timeframe (overall, including coming from marketing campaigns)\n",
    "referrer_users = modelhub.agg.unique_users(df_acquisition, groupby=['referrer']).sort_values(ascending=False)\n",
    "referrer_users.head(20)"
   ]
  },
  {
   "cell_type": "markdown",
   "metadata": {},
   "source": [
    "### Reference\n",
    "* [bach.Series.sort_index](https://objectiv.io/docs/modeling/bach/api-reference/Series/sort_index/)\n",
    "* [bach.Series.to_pandas](https://objectiv.io/docs/modeling/bach/api-reference/Series/to_pandas/)\n",
    "* [modelhub.Aggregate.unique_users](https://objectiv.io/docs/modeling/open-model-hub/models/aggregation/unique_users/)\n",
    "* [bach.Series.reset_index](https://objectiv.io/docs/modeling/bach/api-reference/Series/reset_index/)\n",
    "* [bach.Series.group_by](https://objectiv.io/docs/modeling/bach/api-reference/Series/group_by/)\n",
    "* [bach.DataFrame.dropna](https://objectiv.io/docs/modeling/bach/api-reference/DataFrame/dropna/)\n",
    "* [bach.DataFrame.to_pandas](https://objectiv.io/docs/modeling/bach/api-reference/DataFrame/to_pandas/)\n",
    "* [bach.Series.to_frame](https://objectiv.io/docs/modeling/bach/api-reference/Series/to_frame/)\n",
    "* [bach.DataFrame.head](https://objectiv.io/docs/modeling/bach/api-reference/DataFrame/head/)"
   ]
  },
  {
   "cell_type": "markdown",
   "metadata": {},
   "source": [
    "# Conversion\n",
    "See conversion overall and from marketing. Conversion in this example is defined as clicking any link on the website or docs to our GitHub repo."
   ]
  },
  {
   "cell_type": "code",
   "execution_count": null,
   "metadata": {},
   "outputs": [],
   "source": [
    "# define the conversion event in `df_acquisition` and `df_marketing_selection`\n",
    "# in this example: clicking any link leading to our GitHub repo\n",
    "# create a column that extracts all location stacks that lead to our GitHub repo\n",
    "location_stack_conversion = {'id': 'browse-on-github', '_type': 'LinkContext'}\n",
    "modelhub.add_conversion_event(location_stack=df_acquisition.location_stack.json[location_stack_conversion:],\n",
    "                              event_type='PressEvent',\n",
    "                              name='github_press')\n",
    "\n",
    "\n",
    "modelhub.add_conversion_event(location_stack=df_marketing_selection.location_stack.json[location_stack_conversion:],\n",
    "                              event_type='PressEvent',\n",
    "                              name='github_press')\n",
    "\n",
    "df_acquisition['is_conversion_event'] = modelhub.map.is_conversion_event(df_acquisition, 'github_press')\n",
    "df_marketing_selection['is_conversion_event'] = modelhub.map.is_conversion_event(df_marketing_selection, 'github_press')"
   ]
  },
  {
   "cell_type": "markdown",
   "metadata": {},
   "source": [
    "### Reference\n",
    "* [bach.series.series_json.JsonAccessor](https://objectiv.io/docs/modeling/bach/api-reference/Series/Json/json/)\n",
    "* [modelhub.ModelHub.add_conversion_event](https://objectiv.io/docs/modeling/open-model-hub/api-reference/ModelHub/add_conversion_event/)\n",
    "* [modelhub.Map.is_conversion_event](https://objectiv.io/docs/modeling/open-model-hub/models/helper-functions/is_conversion_event/)"
   ]
  },
  {
   "cell_type": "markdown",
   "metadata": {},
   "source": [
    "## Daily conversions from marketing"
   ]
  },
  {
   "cell_type": "code",
   "execution_count": null,
   "metadata": {},
   "outputs": [],
   "source": [
    "# calculate daily conversions from marketing (based on UTM data)\n",
    "conversions_from_marketing = df_marketing_selection[df_marketing_selection.is_conversion_event].dropna(axis=0, how='any', subset='utm_source')\n",
    "conversions_from_marketing_daily = modelhub.aggregate.unique_users(conversions_from_marketing).sort_index(ascending=False)\n",
    "conversions_from_marketing_daily.head()"
   ]
  },
  {
   "cell_type": "code",
   "execution_count": null,
   "metadata": {},
   "outputs": [],
   "source": [
    "conversions_from_marketing_daily.sort_index(ascending=True).to_pandas().plot(kind='bar', figsize=[15,5], title='Daily #conversions from marketing', xlabel='Day')"
   ]
  },
  {
   "cell_type": "markdown",
   "metadata": {},
   "source": [
    "## Daily conversion rate from marketing"
   ]
  },
  {
   "cell_type": "code",
   "execution_count": null,
   "metadata": {},
   "outputs": [],
   "source": [
    "# calculate daily conversion rate from marketing campaigns overall\n",
    "# divide conversions from campaigns by total daily number of people coming from campaigns \n",
    "conversion_rate_from_marketing = (conversions_from_marketing_daily / users_from_marketing_daily) * 100\n",
    "conversion_rate_from_marketing.sort_index(ascending=False).fillna(0.0).head(10)"
   ]
  },
  {
   "cell_type": "code",
   "execution_count": null,
   "metadata": {},
   "outputs": [],
   "source": [
    "conversion_rate_from_marketing.fillna(0.0).sort_index(ascending=True).to_pandas().plot(kind='line', figsize=[15,5], title='Daily conversion rate from marketing', xlabel='Day')"
   ]
  },
  {
   "cell_type": "markdown",
   "metadata": {},
   "source": [
    "## Daily conversions overall"
   ]
  },
  {
   "cell_type": "code",
   "execution_count": null,
   "metadata": {},
   "outputs": [],
   "source": [
    "# calculate daily conversions overall (including from marketing campaigns)\n",
    "conversions_overall = modelhub.aggregate.unique_users(df_acquisition[df_acquisition.is_conversion_event])\n",
    "conversions_overall.sort_index(ascending=False).head()"
   ]
  },
  {
   "cell_type": "code",
   "execution_count": null,
   "metadata": {},
   "outputs": [],
   "source": [
    "# plot daily conversions overall (including from marketing campaigns)\n",
    "conversions_overall.to_pandas().plot(kind='bar', figsize=[15,5], title='Daily #conversions overall', xlabel='Day')"
   ]
  },
  {
   "cell_type": "markdown",
   "metadata": {},
   "source": [
    "### Daily conversion rate overall"
   ]
  },
  {
   "cell_type": "code",
   "execution_count": null,
   "metadata": {},
   "outputs": [],
   "source": [
    "# calculate daily conversion rate overall (including from marketing campaigns)\n",
    "daily_users = modelhub.aggregate.unique_users(df_acquisition).sort_index(ascending=False)\n",
    "conversion_rate_overall = (conversions_overall / daily_users) * 100\n",
    "conversion_rate_overall.sort_index(ascending=False).head(10)"
   ]
  },
  {
   "cell_type": "code",
   "execution_count": null,
   "metadata": {},
   "outputs": [],
   "source": [
    "conversion_rate_overall.sort_index(ascending=True).fillna(0.0).to_pandas().plot(kind='line', figsize=[15,5], title='Daily conversion rate overall', xlabel='Day')"
   ]
  },
  {
   "cell_type": "markdown",
   "metadata": {},
   "source": [
    "### Reference\n",
    "* [modelhub.Map.is_conversion_event](https://objectiv.io/docs/modeling/open-model-hub/models/helper-functions/is_conversion_event/)\n",
    "* [bach.DataFrame.dropna](https://objectiv.io/docs/modeling/bach/api-reference/DataFrame/dropna/)\n",
    "* [modelhub.Aggregate.unique_users](https://objectiv.io/docs/modeling/open-model-hub/models/aggregation/unique_users/)\n",
    "* [bach.Series.sort_index](https://objectiv.io/docs/modeling/bach/api-reference/Series/sort_index/)\n",
    "* [bach.DataFrame.to_pandas](https://objectiv.io/docs/modeling/bach/api-reference/DataFrame/to_pandas/)\n",
    "* [bach.DataFrame.fillna](https://objectiv.io/docs/modeling/bach/api-reference/DataFrame/fillna/)\n",
    "* [bach.DataFrame.head](https://objectiv.io/docs/modeling/bach/api-reference/DataFrame/head/)"
   ]
  },
  {
   "cell_type": "markdown",
   "metadata": {},
   "source": [
    "## Conversion split by source & campaign"
   ]
  },
  {
   "cell_type": "markdown",
   "metadata": {},
   "source": [
    "### Conversions per marketing _source_ over full timeframe"
   ]
  },
  {
   "cell_type": "code",
   "execution_count": null,
   "metadata": {},
   "outputs": [],
   "source": [
    "# calculate conversions per marketing _source_ over the full timeframe (based on UTM data)\n",
    "campaign_conversions_source_timeframe = modelhub.aggregate.unique_users(df_marketing_selection[df_marketing_selection.is_conversion_event], ['utm_source'])\n",
    "campaign_conversions_source_timeframe.reset_index().dropna(axis=0, how='any', subset='utm_source').sort_values(['unique_users'], ascending=False).head()"
   ]
  },
  {
   "cell_type": "markdown",
   "metadata": {},
   "source": [
    "### Conversions per marketing _source_ daily"
   ]
  },
  {
   "cell_type": "code",
   "execution_count": null,
   "metadata": {},
   "outputs": [],
   "source": [
    "# split daily conversions by marketing _source_ (based on UTM data)\n",
    "campaign_conversions_source_daily = modelhub.aggregate.unique_users(df_marketing_selection[df_marketing_selection.is_conversion_event], ['day', 'utm_source'])\n",
    "campaign_conversions_source_daily.reset_index().dropna(axis=0, how='any', subset='utm_source').set_index('day').sort_index(ascending=False).head(10)"
   ]
  },
  {
   "cell_type": "markdown",
   "metadata": {},
   "source": [
    "### Conversions per marketing _campaign_ over full timeframe"
   ]
  },
  {
   "cell_type": "code",
   "execution_count": null,
   "metadata": {},
   "outputs": [],
   "source": [
    "# split conversions by marketing _campaign_ (based on UTM data)\n",
    "campaign_conversions_campaign = modelhub.aggregate.unique_users(df_marketing_selection[df_marketing_selection.is_conversion_event], ['utm_source', 'utm_medium', 'utm_campaign'])\n",
    "campaign_conversions_campaign.reset_index().dropna(axis=0, how='any', subset='utm_source').sort_values(['utm_source', 'unique_users'], ascending=False).head()"
   ]
  },
  {
   "cell_type": "markdown",
   "metadata": {},
   "source": [
    "### Reference\n",
    "* [modelhub.Aggregate.unique_users](https://objectiv.io/docs/modeling/open-model-hub/models/aggregation/unique_users/)\n",
    "* [modelhub.Map.is_conversion_event](https://objectiv.io/docs/modeling/open-model-hub/models/helper-functions/is_conversion_event/)\n",
    "* [bach.DataFrame.dropna](https://objectiv.io/docs/modeling/bach/api-reference/DataFrame/dropna/)\n",
    "* [bach.DataFrame.sort_values](https://objectiv.io/docs/modeling/bach/api-reference/DataFrame/sort_values/)\n",
    "* [bach.Series.sort_index](https://objectiv.io/docs/modeling/bach/api-reference/Series/sort_index/)\n",
    "* [bach.DataFrame.head](https://objectiv.io/docs/modeling/bach/api-reference/DataFrame/head/)"
   ]
  },
  {
   "cell_type": "markdown",
   "metadata": {},
   "source": [
    "# Avg. duration"
   ]
  },
  {
   "cell_type": "markdown",
   "metadata": {},
   "source": [
    "## Avg. duration per ad source"
   ]
  },
  {
   "cell_type": "code",
   "execution_count": null,
   "metadata": {},
   "outputs": [],
   "source": [
    "# avg duration for users that come from an ad campaign in the full timeframe\n",
    "duration_per_source = modelhub.aggregate.session_duration(df_marketing_selection, groupby=['utm_source']).to_frame()\n",
    "duration_per_source.sort_values(['utm_source'], ascending=False).head(10)"
   ]
  },
  {
   "cell_type": "markdown",
   "metadata": {},
   "source": [
    "## Vs. avg. duration by all users"
   ]
  },
  {
   "cell_type": "code",
   "execution_count": null,
   "metadata": {},
   "outputs": [],
   "source": [
    "# vs time spent by all users\n",
    "modelhub.aggregate.session_duration(df_acquisition, groupby=None).to_frame().head()"
   ]
  },
  {
   "cell_type": "markdown",
   "metadata": {},
   "source": [
    "## Avg. duration for converted users per _source_"
   ]
  },
  {
   "cell_type": "code",
   "execution_count": null,
   "metadata": {},
   "outputs": [],
   "source": [
    "# avg. duration for converted users - per source\n",
    "# label sessions with a conversion\n",
    "df_marketing_selection['converted_users'] = modelhub.map.conversions_counter(df_marketing_selection, name='github_press') >= 1\n",
    "# label hits where at that point in time, there are 0 conversions in the session\n",
    "df_marketing_selection['zero_conversions_at_moment'] = modelhub.map.conversions_in_time(df_marketing_selection, 'github_press') == 0\n",
    "# filter on above created labels to find the users who converted for the very first time\n",
    "converted_users = df_marketing_selection[(df_marketing_selection.converted_users & df_marketing_selection.zero_conversions_at_moment)]\n",
    "\n",
    "modelhub.aggregate.session_duration(converted_users, groupby=['utm_source']).to_frame().sort_values('utm_source', ascending=False).head(20)"
   ]
  },
  {
   "cell_type": "markdown",
   "metadata": {},
   "source": [
    "## Avg. duration per converted user"
   ]
  },
  {
   "cell_type": "code",
   "execution_count": null,
   "metadata": {},
   "outputs": [],
   "source": [
    "# duration before conversion - per source & user\n",
    "# label sessions with a conversion\n",
    "df_marketing_selection['converted_users'] = modelhub.map.conversions_counter(df_marketing_selection, name='github_press', partition='user_id') >= 1\n",
    "# label hits where at that point in time, there are 0 conversions in the session\n",
    "df_marketing_selection['zero_conversions_at_moment'] = modelhub.map.conversions_in_time(df_marketing_selection, 'github_press', partition='user_id') == 0\n",
    "# materialize the data frame after adding columns as temporary table to reduce the complexity of the underlying queries\n",
    "df_marketing_selection = df_marketing_selection.materialize(materialization='temp_table')\n",
    "# filter on above created labels to find the users who converted for the very first time\n",
    "converted_users = df_marketing_selection[(df_marketing_selection.converted_users & df_marketing_selection.zero_conversions_at_moment)]\n",
    "\n",
    "modelhub.aggregate.session_duration(converted_users, groupby=['day', 'utm_source', 'user_id']).to_frame().sort_values('day', ascending=False).head(20)"
   ]
  },
  {
   "cell_type": "markdown",
   "metadata": {},
   "source": [
    "## Avg. duration before first conversion\n",
    "Avg. duration for users that converted for the very first time (not including hits or sessions after the moment of conversion)."
   ]
  },
  {
   "cell_type": "code",
   "execution_count": null,
   "metadata": {},
   "outputs": [],
   "source": [
    "# avg duration before conversion - overall\n",
    "modelhub.aggregate.session_duration(converted_users, groupby=None).to_frame().head()"
   ]
  },
  {
   "cell_type": "markdown",
   "metadata": {},
   "source": [
    "## Avg. duration before first conversion per _source_\n",
    "Avg. duration per campaign _source_ for users who converted for the very first time (not including hits or sessions after the moment of conversion)."
   ]
  },
  {
   "cell_type": "code",
   "execution_count": null,
   "metadata": {},
   "outputs": [],
   "source": [
    "# avg duration before conversion - per source\n",
    "modelhub.aggregate.session_duration(converted_users, groupby=['utm_source']).to_frame().head()"
   ]
  },
  {
   "cell_type": "markdown",
   "metadata": {},
   "source": [
    "## Avg. duration with bounces filtered out"
   ]
  },
  {
   "cell_type": "code",
   "execution_count": null,
   "metadata": {},
   "outputs": [],
   "source": [
    "# create dataframe for sessions without zero duration (aka bounces)\n",
    "df_marketing_no_bounces = modelhub.aggregate.session_duration(df_marketing_selection, groupby=['utm_source', 'session_id'], exclude_bounces=True).to_frame()\n",
    "\n",
    "# avg duration for non-bounced users that come from an ad campaign in the full timeframe\n",
    "df_marketing_no_bounces = df_marketing_no_bounces.reset_index().groupby(['utm_source'])['session_duration'].mean().to_frame()\n",
    "df_marketing_no_bounces.head(30)"
   ]
  },
  {
   "cell_type": "markdown",
   "metadata": {},
   "source": [
    "## Avg. daily duration per campaign _source_"
   ]
  },
  {
   "cell_type": "code",
   "execution_count": null,
   "metadata": {},
   "outputs": [],
   "source": [
    "# calculate time spent per campaign source, daily\n",
    "duration_per_source_daily = modelhub.agg.session_duration(df_marketing_selection, groupby=['utm_source', 'day']).to_frame()\n",
    "# calculate the number of users per campaign source, daily\n",
    "source_users_daily = modelhub.agg.unique_users(df_acquisition, groupby=['utm_source', 'day'])\n",
    "source_users_daily = source_users_daily.reset_index()\n",
    "# add them together\n",
    "source_duration_users_daily = duration_per_source_daily.merge(source_users_daily, how='left', on=['utm_source', 'day']);\n",
    "# also add #conversions\n",
    "converted_users = campaign_conversions_source_daily.to_frame().rename(columns={\"unique_users\": \"converted_users\"})\n",
    "source_duration_users_daily = source_duration_users_daily.merge(converted_users, how='left', on=['utm_source', 'day'])\n",
    "\n",
    "source_duration_users_daily = source_duration_users_daily.sort_values(['utm_source', 'day'], ascending=False)\n",
    "source_duration_users_daily.head(50)"
   ]
  },
  {
   "cell_type": "markdown",
   "metadata": {},
   "source": [
    "### Reference\n",
    "* [modelhub.Aggregate.session_duration](https://objectiv.io/docs/modeling/open-model-hub/models/aggregation/session_duration/)\n",
    "* [bach.DataFrame.sort_values](https://objectiv.io/docs/modeling/bach/api-reference/DataFrame/sort_values/)\n",
    "* [modelhub.Map.conversions_counter](https://objectiv.io/docs/modeling/open-model-hub/models/helper-functions/conversions_counter/)\n",
    "* [modelhub.Map.conversions_in_time](https://objectiv.io/docs/modeling/open-model-hub/models/helper-functions/conversions_in_time/)\n",
    "* [bach.Series.to_frame](https://objectiv.io/docs/modeling/bach/api-reference/Series/to_frame/)\n",
    "* [bach.Series.reset_index](https://objectiv.io/docs/modeling/bach/api-reference/Series/reset_index/)\n",
    "* [modelhub.Aggregate.unique_users](https://objectiv.io/docs/modeling/open-model-hub/models/aggregation/unique_users/)\n",
    "* [bach.DataFrame.dropna](https://objectiv.io/docs/modeling/bach/api-reference/DataFrame/dropna/)\n",
    "* [bach.DataFrame.merge](https://objectiv.io/docs/modeling/bach/api-reference/DataFrame/merge/)\n",
    "* [bach.DataFrame.head](https://objectiv.io/docs/modeling/bach/api-reference/DataFrame/head/)"
   ]
  },
  {
   "cell_type": "markdown",
   "metadata": {},
   "source": [
    "# Deep-dive into user behavior from marketing"
   ]
  },
  {
   "cell_type": "markdown",
   "metadata": {},
   "source": [
    "## Top used product features for users from marketing campaigns"
   ]
  },
  {
   "cell_type": "code",
   "execution_count": null,
   "metadata": {},
   "outputs": [],
   "source": [
    "# top used product features for users coming from marketing campaigns\n",
    "top_product_features_from_marketing = modelhub.aggregate.top_product_features(df_marketing_selection)\n",
    "top_product_features_from_marketing.head(20)"
   ]
  },
  {
   "cell_type": "markdown",
   "metadata": {},
   "source": [
    "### Top used product features for users from marketing campaigns, before they convert"
   ]
  },
  {
   "cell_type": "code",
   "execution_count": null,
   "metadata": {},
   "outputs": [],
   "source": [
    "# top used product features for users coming from marketing campaigns, before they convert\n",
    "top_features_before_conversion_from_marketing = modelhub.agg.top_product_features_before_conversion(df_marketing_selection, name='github_press')\n",
    "top_features_before_conversion_from_marketing.head(20)"
   ]
  },
  {
   "cell_type": "code",
   "execution_count": null,
   "metadata": {},
   "outputs": [],
   "source": [
    "# calculate the percentage of converted users per feature: (converted users per feature) / (total users converted)\n",
    "total_converted_users = df_marketing_selection[df_marketing_selection['is_conversion_event']]['user_id'].unique().count().value\n",
    "top_conversion_locations = modelhub.agg.unique_users(df_marketing_selection[df_marketing_selection['is_conversion_event']], groupby='feature_nice_name')\n",
    "top_conversion_locations = (top_conversion_locations / total_converted_users) * 100\n",
    "# show the results, with .to_frame() for nicer formatting\n",
    "top_conversion_locations = top_conversion_locations.to_frame().rename(columns={'unique_users': 'converted_users_percentage'})\n",
    "top_conversion_locations.sort_values(by='converted_users_percentage', ascending=False).head()"
   ]
  },
  {
   "cell_type": "markdown",
   "metadata": {},
   "source": [
    "### Reference\n",
    "* [modelhub.Aggregate.top_product_features](https://objectiv.io/docs/modeling/open-model-hub/models/aggregation/top_product_features/)\n",
    "* [modelhub.Aggregate.top_product_features_before_conversion](https://objectiv.io/docs/modeling/open-model-hub/models/aggregation/top_product_features_before_conversion/)\n",
    "* [bach.Series.unique](https://objectiv.io/docs/modeling/bach/api-reference/Series/unique/)\n",
    "* [bach.Series.count](https://objectiv.io/docs/modeling/bach/api-reference/Series/count/)\n",
    "* [bach.Series.to_frame](https://objectiv.io/docs/modeling/bach/api-reference/Series/to_frame/)\n",
    "* [bach.DataFrame.head](https://objectiv.io/docs/modeling/bach/api-reference/DataFrame/head/)"
   ]
  },
  {
   "cell_type": "markdown",
   "metadata": {},
   "source": [
    "## Funnel Discovery: flows for _all_ users from marketing campaigns"
   ]
  },
  {
   "cell_type": "code",
   "execution_count": null,
   "metadata": {},
   "outputs": [],
   "source": [
    "# select which event type to use for further analysis - PressEvents to focus on what users directly interact with\n",
    "df_funnel_from_marketing = df_marketing_selection[df_marketing_selection['event_type'] == 'PressEvent']\n",
    "# instantiate the FunnelDiscovery model from the open model hub\n",
    "funnel = modelhub.get_funnel_discovery()\n",
    "# set the maximum n steps\n",
    "max_steps = 4"
   ]
  },
  {
   "cell_type": "code",
   "execution_count": null,
   "metadata": {},
   "outputs": [],
   "source": [
    "# for every user starting their session, find all maximum n consecutive steps they took\n",
    "df_steps = funnel.get_navigation_paths(df_funnel_from_marketing, steps=max_steps, by='user_id')\n",
    "df_steps.head()"
   ]
  },
  {
   "cell_type": "code",
   "execution_count": null,
   "metadata": {},
   "outputs": [],
   "source": [
    "# calculate the most frequent consecutive steps that all users took after starting their session, based on the location stack\n",
    "df_steps.value_counts().to_frame().head(20)"
   ]
  },
  {
   "cell_type": "code",
   "execution_count": null,
   "metadata": {},
   "outputs": [],
   "source": [
    "funnel.plot_sankey_diagram(df_steps, n_top_examples=50)"
   ]
  },
  {
   "cell_type": "markdown",
   "metadata": {},
   "source": [
    "## Funnel Discovery: flows for _converted_ users from marketing"
   ]
  },
  {
   "cell_type": "code",
   "execution_count": null,
   "metadata": {},
   "outputs": [],
   "source": [
    "# add which step resulted in conversion to the dataframe, with the `add_conversion_step_column` param\n",
    "# filter down to all sequences that have actually converted with the `only_converted_paths` param\n",
    "df_steps_till_conversion = funnel.get_navigation_paths(df_funnel_from_marketing, steps=max_steps, by='user_id', add_conversion_step_column=True, only_converted_paths=True)\n",
    "df_steps_till_conversion.head(5)"
   ]
  },
  {
   "cell_type": "code",
   "execution_count": null,
   "metadata": {},
   "outputs": [],
   "source": [
    "# plot the Sankey diagram using the top examples via the `n_top_examples` param\n",
    "condition_convert_on_step = df_steps_till_conversion['_first_conversion_step_number'] == 2\n",
    "funnel.plot_sankey_diagram(df_steps_till_conversion[condition_convert_on_step], n_top_examples=15)"
   ]
  },
  {
   "cell_type": "markdown",
   "metadata": {},
   "source": [
    "## Funnel Discovery: drop-off for users from marketing"
   ]
  },
  {
   "cell_type": "code",
   "execution_count": null,
   "metadata": {},
   "outputs": [],
   "source": [
    "# select only non-converted users\n",
    "df_funnel_non_converted = df_marketing_selection[~df_marketing_selection['is_conversion_event']]\n",
    "funnel_converted_users = df_marketing_selection[df_marketing_selection['is_conversion_event']]['user_id']\n",
    "# select the events of these non converted users\n",
    "df_funnel_non_converted = df_funnel_non_converted[~df_funnel_non_converted['user_id'].isin(funnel_converted_users)]\n",
    "# get the last used feature in the location_stack before dropping off\n",
    "drop_loc = df_funnel_non_converted.sort_values('moment').groupby('user_id')['feature_nice_name'].to_json_array().json[-1].materialize()\n",
    "total_count = drop_loc.count().value\n",
    "# show the last used features by non-converted users, sorted by their usage share compared to all features\n",
    "drop_loc_percent = (drop_loc.value_counts() / total_count) * 100\n",
    "drop_loc_percent = drop_loc_percent.to_frame().rename(columns={'value_counts': 'drop_percentage'})\n",
    "drop_loc_percent.sort_values(by='drop_percentage', ascending=False).head(10)"
   ]
  },
  {
   "cell_type": "markdown",
   "metadata": {},
   "source": [
    "### Reference\n",
    "* [modelhub.ModelHub.get_funnel_discovery](https://objectiv.io/docs/modeling/open-model-hub/api-reference/ModelHub/get_funnel_discovery/)\n",
    "* [modelhub.FunnelDiscovery.get_navigation_paths](https://objectiv.io/docs/modeling/open-model-hub/models/funnels/FunnelDiscovery/get_navigation_paths/)\n",
    "* [bach.Series.to_frame](https://objectiv.io/docs/modeling/bach/api-reference/Series/to_frame/)\n",
    "* [bach.DataFrame.head](https://objectiv.io/docs/modeling/bach/api-reference/DataFrame/head/)\n",
    "* [modelhub.FunnelDiscovery.plot_sankey_diagram](https://objectiv.io/docs/modeling/open-model-hub/models/funnels/FunnelDiscovery/plot_sankey_diagram/)\n",
    "* [bach.DataFrame.rename](https://objectiv.io/docs/modeling/bach/api-reference/DataFrame/rename/)\n",
    "* [bach.DataFrame.sort_values](https://objectiv.io/docs/modeling/bach/api-reference/DataFrame/sort_values/)"
   ]
  },
  {
   "cell_type": "markdown",
   "metadata": {},
   "source": [
    "## Predict User Behavior from campaigns\n",
    "You can run predictive modeling on your marketing data as well. For example, you can create a feature for the number of times a user came in through a specific marketing source.\n",
    "\n",
    "The created marketing feature set can be merged with any user-level feature set for logistic regression, like `features_set_sample` from the [logistic regression example notebook](./model-hub-logistic-regression.ipynb). For more details on how to do feature engineering, see our [feature engineering example notebook](./feature-engineering.ipynb)."
   ]
  },
  {
   "cell_type": "code",
   "execution_count": null,
   "metadata": {},
   "outputs": [],
   "source": [
    "# create a feature for the number of times a user came in through a specific marketing source:\n",
    "feature_prepare = df_acquisition.copy()\n",
    "feature_prepare['utm_source'] = feature_prepare.utm_source.fillna('none')\n",
    "features_us = feature_prepare.groupby(['user_id', 'utm_source']).session_id.nunique()\n",
    "features_us_unstacked = features_us.unstack(fill_value=0)\n",
    "features_us_unstacked.head()"
   ]
  },
  {
   "cell_type": "markdown",
   "metadata": {},
   "source": [
    "### Reference\n",
    "* [bach.DataFrame.copy](https://objectiv.io/docs/modeling/bach/api-reference/DataFrame/copy/)\n",
    "* [bach.DataFrame.fillna](https://objectiv.io/docs/modeling/bach/api-reference/DataFrame/fillna/)\n",
    "* [bach.DataFrame.groupby](https://objectiv.io/docs/modeling/bach/api-reference/DataFrame/groupby/)\n",
    "* [bach.DataFrame.nunique](https://objectiv.io/docs/modeling/bach/api-reference/DataFrame/nunique/)\n",
    "* [bach.Series.unstack](https://objectiv.io/docs/modeling/bach/api-reference/Series/unstack/)\n",
    "* [bach.DataFrame.head](https://objectiv.io/docs/modeling/bach/api-reference/DataFrame/head/)"
   ]
  },
  {
   "cell_type": "markdown",
   "metadata": {},
   "source": [
    "## Get the SQL for any analysis\n",
    "The SQL for any analysis can be exported with one command, so you can use models in production directly to simplify data debugging & delivery to BI tools like Metabase, dbt, etc. See how you can [quickly create BI dashboards with this](https://objectiv.io/docs/home/try-the-demo#creating-bi-dashboards)."
   ]
  }
 ],
 "metadata": {
  "hex_info": {
   "author": "Ivar Pruijn",
   "exported_date": "Tue Aug 23 2022 14:13:42 GMT+0000 (Coordinated Universal Time)",
   "project_id": "4ab37582-bfa6-4b79-9445-65fe319d6acb",
   "version": "draft"
  },
  "kernelspec": {
   "display_name": "Python 3 (ipykernel)",
   "language": "python",
   "name": "python3"
  },
  "language_info": {
   "codemirror_mode": {
    "name": "ipython",
    "version": 3
   },
   "file_extension": ".py",
   "mimetype": "text/x-python",
   "name": "python",
   "nbconvert_exporter": "python",
   "pygments_lexer": "ipython3",
   "version": "3.8.10"
  }
 },
 "nbformat": 4,
 "nbformat_minor": 4
}
