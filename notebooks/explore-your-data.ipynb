{
 "cells": [
  {
   "cell_type": "markdown",
   "id": "afb5dddf",
   "metadata": {},
   "source": [
    "This is one of the Objectiv [example notebooks](https://objectiv.io/docs/modeling/example-notebooks/). These notebooks can run [on your own data](https://objectiv.io/docs/modeling/get-started-in-your-notebook/), or you can instead run the [Demo](https://objectiv.io/docs/home/try-the-demo/) to quickly try them out."
   ]
  },
  {
   "cell_type": "markdown",
   "id": "990f0ae2-48cd-4220-8960-844af284fcce",
   "metadata": {
    "tags": []
   },
   "source": [
    "# Explore your data"
   ]
  },
  {
   "cell_type": "markdown",
   "id": "fc19e049-754f-4c0e-8a5a-0ff89bdb7724",
   "metadata": {},
   "source": [
    "This example notebook shows how you can easily explore your data collected with Objectiv. [See here how to get started in your notebook](https://objectiv.io/docs/modeling/get-started-in-your-notebook/). \n",
    "\n",
    "We first have to instantiate the model hub and an Objectiv DataFrame object."
   ]
  },
  {
   "cell_type": "code",
   "execution_count": null,
   "id": "25dca285",
   "metadata": {},
   "outputs": [],
   "source": [
    "# set the timeframe of the analysis\n",
    "start_date = '2022-06-01'\n",
    "end_date = None"
   ]
  },
  {
   "cell_type": "code",
   "execution_count": null,
   "id": "3756a344-8072-4d6d-9c86-ea6bb8428ff8",
   "metadata": {},
   "outputs": [],
   "source": [
    "from modelhub import ModelHub\n",
    "from bach import display_sql_as_markdown\n",
    "\n",
    "# instantiate the model hub, set the default time aggregation to daily\n",
    "# and get the application & path global contexts\n",
    "modelhub = ModelHub(time_aggregation='%Y-%m-%d', global_contexts=['application', 'path'])\n",
    "# get an Objectiv DataFrame within a defined timeframe\n",
    "df = modelhub.get_objectiv_dataframe(start_date=start_date, end_date=end_date)"
   ]
  },
  {
   "cell_type": "markdown",
   "id": "5d2ae6d1",
   "metadata": {},
   "source": [
    "### Reference\n",
    "* [modelhub.ModelHub.get_objectiv_dataframe](https://objectiv.io/docs/modeling/open-model-hub/api-reference/ModelHub/get_objectiv_dataframe/)"
   ]
  },
  {
   "cell_type": "markdown",
   "id": "5759b781-4d3a-4ca2-9908-1d795507a233",
   "metadata": {},
   "source": [
    "## A first look at the data"
   ]
  },
  {
   "cell_type": "code",
   "execution_count": null,
   "id": "e303e574-09fc-437c-97ba-020392dda222",
   "metadata": {},
   "outputs": [],
   "source": [
    "# have a look at the event data, sorted by the user's session ID & hit\n",
    "df.sort_values(['session_id', 'session_hit_number'], ascending=False).head()"
   ]
  },
  {
   "cell_type": "markdown",
   "id": "11ba083e",
   "metadata": {},
   "source": [
    "### Reference\n",
    "* [bach.DataFrame.sort_values](https://objectiv.io/docs/modeling/bach/api-reference/DataFrame/sort_values/)\n",
    "* [bach.DataFrame.head](https://objectiv.io/docs/modeling/bach/api-reference/DataFrame/head/)"
   ]
  },
  {
   "cell_type": "markdown",
   "id": "4af54249-0722-47a7-8b3d-fd2708935e1f",
   "metadata": {},
   "source": [
    "## Understanding the columns"
   ]
  },
  {
   "cell_type": "code",
   "execution_count": null,
   "id": "027d7433-a68d-494a-a5ff-218cb8d29b40",
   "metadata": {},
   "outputs": [],
   "source": [
    "# see the data type for each column\n",
    "df.dtypes"
   ]
  },
  {
   "cell_type": "markdown",
   "id": "f00178f6",
   "metadata": {},
   "source": [
    "### Reference\n",
    "* [bach.DataFrame.dtypes](https://objectiv.io/docs/modeling/bach/api-reference/DataFrame/dtypes/)"
   ]
  },
  {
   "cell_type": "markdown",
   "id": "9a8e5561-c497-49c3-a917-a93a4cbd3edc",
   "metadata": {},
   "source": [
    "What’s in these columns:\n",
    "\n",
    "* `day`: the day of the session as a date.\n",
    "* `moment`: the exact moment of the event as a timestamp.\n",
    "* `user_id`: the unique identifier of the user, based on the cookie.\n",
    "* `location_stack`: a JSON-like column that stores information on the UI location that the event was triggered. [See the open taxonomy notebook](https://objectiv.io/docs/modeling/example-notebooks/open-taxonomy/) for more details.\n",
    "* `event_type`: the type of event that is logged, e.g. a PressEvent.\n",
    "* `stack_event_types`: the parents of the event_type as a hierarchical JSON structure.\n",
    "* `session_id`: a unique incremented integer ID for each session. Starts at 1 for the selected data in the DataFrame.\n",
    "* `session_hit_number`: an incremented integer ID for each hit in the session, ordered by moment."
   ]
  },
  {
   "cell_type": "markdown",
   "id": "495b033d",
   "metadata": {},
   "source": [
    "Besides these 'standard' columns, additional columns that are extracted from the global contexts are in the DataFrame. In this case these columns are:\n",
    "* `application`.\n",
    "* `path`."
   ]
  },
  {
   "cell_type": "markdown",
   "id": "0bfe2546",
   "metadata": {},
   "source": [
    "### Reference\n",
    "For a more detailed understanding of Objectiv events in general, and especially the global contexts and location_stack data columns, see the open analytics taxonomy documentation:\n",
    "\n",
    "* [Events](https://objectiv.io/docs/taxonomy/events).\n",
    "* [Global contexts](https://objectiv.io/docs/taxonomy/global-contexts).\n",
    "* [Location contexts](https://objectiv.io/docs/taxonomy/location-contexts).\n",
    "\n",
    "The [open taxonomy notebook](open-taxonomy-how-to.ipynb#Location-stack-&-global-contexts) has several examples on how to use it in modeling."
   ]
  },
  {
   "cell_type": "markdown",
   "id": "687e20f8-77e5-4e1e-aa69-7ab384ddd762",
   "metadata": {},
   "source": [
    "## Your first Objectiv event data\n",
    "Before we dig any deeper, let’s take a more global look at the data Objectiv is now tracking in your product. An easy way to do this, is by looking at it from the [‘root locations’](https://objectiv.io/docs/taxonomy/reference/location-contexts/RootLocationContext); the main sections in your product’s UI.\n",
    "\n",
    "First, we want to extract data from the `location_stack` column and the global contexts 'application' and 'path' that contain all relevant context about the event for this example. [See the open taxonomy notebook](https://objectiv.io/docs/modeling/example-notebooks/open-taxonomy/) for more details."
   ]
  },
  {
   "cell_type": "code",
   "execution_count": null,
   "id": "ae539d54-bb7d-42ce-94ac-cd52d4179310",
   "metadata": {},
   "outputs": [],
   "source": [
    "# add specific contexts to the data as columns\n",
    "df['application_id'] = df.application.context.id\n",
    "df['root_location'] = df.location_stack.ls.get_from_context_with_type_series(type='RootLocationContext', key='id')\n",
    "df['path_id'] = df.path.context.id"
   ]
  },
  {
   "cell_type": "code",
   "execution_count": null,
   "id": "2f442985-f622-404d-8943-30a6f3ac511d",
   "metadata": {},
   "outputs": [],
   "source": [
    "# now easily slice the data using the added context columns\n",
    "event_data = modelhub.agg.unique_users(df, groupby=['application_id', 'root_location', 'path_id', 'event_type'])\n",
    "event_data.sort_values(ascending=False).to_frame().head(20)"
   ]
  },
  {
   "cell_type": "markdown",
   "id": "2ede5aa1",
   "metadata": {},
   "source": [
    "### Reference\n",
    "* [using global context data](open-taxonomy-how-to.ipynb#Location-stack-&-global-contexts)\n",
    "* [modelhub.SeriesLocationStack.ls](https://objectiv.io/docs/modeling/open-model-hub/api-reference/SeriesLocationStack/ls/)\n",
    "* [modelhub.Aggregate.unique_users](https://objectiv.io/docs/modeling/open-model-hub/models/aggregation/unique_users/)\n",
    "* [bach.DataFrame.sort_values](https://objectiv.io/docs/modeling/bach/api-reference/DataFrame/sort_values/)\n",
    "* [bach.Series.to_frame](https://objectiv.io/docs/modeling/bach/api-reference/Series/to_frame/)"
   ]
  },
  {
   "cell_type": "markdown",
   "id": "a1b3f9b1",
   "metadata": {},
   "source": [
    "## Understanding product features"
   ]
  },
  {
   "cell_type": "markdown",
   "id": "d6162142-2cf3-41b8-9f0f-4a7b51e614d8",
   "metadata": {},
   "source": [
    "For every event, Objectiv captures where it occurred in your product’s UI, using a hierarchical stack of [LocationContexts](https://objectiv.io/docs/taxonomy/location-contexts). This means you can easily slice the data on any part of the UI that you’re interested in. [See the open taxonomy notebook](https://objectiv.io/docs/modeling/example-notebooks/open-taxonomy/) for more details. It also means you can make product features very readable and easy to understand; see below how."
   ]
  },
  {
   "cell_type": "code",
   "execution_count": null,
   "id": "4e130b67",
   "metadata": {},
   "outputs": [],
   "source": [
    "# add a readable product feature name to the dataframe as a column\n",
    "df['feature_nice_name'] = df.location_stack.ls.nice_name"
   ]
  },
  {
   "cell_type": "code",
   "execution_count": null,
   "id": "3c4ad65e",
   "metadata": {},
   "outputs": [],
   "source": [
    "# now easily look at the data by product feature\n",
    "product_feature_data = modelhub.agg.unique_users(df, groupby=['feature_nice_name', 'event_type'])\n",
    "product_feature_data.sort_values(ascending=False).to_frame().head(20)"
   ]
  },
  {
   "cell_type": "markdown",
   "id": "5361811a",
   "metadata": {},
   "source": [
    "### Reference\n",
    "* [modelhub.SeriesLocationStack.ls](https://objectiv.io/docs/modeling/open-model-hub/api-reference/SeriesLocationStack/ls/)\n",
    "* [modelhub.Aggregate.unique_users](https://objectiv.io/docs/modeling/open-model-hub/models/aggregation/unique_users/)\n",
    "* [bach.DataFrame.sort_values](https://objectiv.io/docs/modeling/bach/api-reference/DataFrame/sort_values/)\n",
    "* [bach.Series.to_frame](https://objectiv.io/docs/modeling/bach/api-reference/Series/to_frame/)\n",
    "* [bach.DataFrame.head](https://objectiv.io/docs/modeling/bach/api-reference/DataFrame/head/)"
   ]
  },
  {
   "cell_type": "markdown",
   "id": "97bf03d0",
   "metadata": {},
   "source": [
    "## Get the SQL for any analysis\n",
    "The SQL for any analysis can be exported with one command, so you can use models in production directly to simplify data debugging & delivery to BI tools like Metabase, dbt, etc. See how you can [quickly create BI dashboards with this](https://objectiv.io/docs/home/try-the-demo#creating-bi-dashboards)."
   ]
  },
  {
   "cell_type": "code",
   "execution_count": null,
   "id": "3503632c-bd17-462f-a7e2-9b27a390c673",
   "metadata": {},
   "outputs": [],
   "source": [
    "# show the underlying SQL for this dataframe - works for any dataframe/model in Objectiv\n",
    "display_sql_as_markdown(product_feature_data)"
   ]
  },
  {
   "cell_type": "markdown",
   "id": "a6f1c079-659f-4d00-82e2-d05f40252281",
   "metadata": {},
   "source": [
    "## Where to go next\n",
    "Now that you’ve had a first look at your new data collected with Objectiv, the best next step is to see the [basic product analytics example notebook](basic-product-analytics.ipynb). It shows you to how to easily get product analytics metrics straight from your raw Objectiv data."
   ]
  }
 ],
 "metadata": {
  "kernelspec": {
   "display_name": "Python 3 (ipykernel)",
   "language": "python",
   "name": "python3"
  },
  "language_info": {
   "codemirror_mode": {
    "name": "ipython",
    "version": 3
   },
   "file_extension": ".py",
   "mimetype": "text/x-python",
   "name": "python",
   "nbconvert_exporter": "python",
   "pygments_lexer": "ipython3",
   "version": "3.8.10"
  }
 },
 "nbformat": 4,
 "nbformat_minor": 5
}
