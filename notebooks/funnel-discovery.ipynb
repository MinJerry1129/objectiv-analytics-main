{
 "cells": [
  {
   "cell_type": "markdown",
   "id": "741991f3",
   "metadata": {},
   "source": [
    "This is one of the Objectiv [example notebooks](https://objectiv.io/docs/modeling/example-notebooks/). These notebooks can run [on your own data](https://objectiv.io/docs/modeling/get-started-in-your-notebook/), or you can instead run the [Demo](https://objectiv.io/docs/home/try-the-demo/) to quickly try them out."
   ]
  },
  {
   "cell_type": "markdown",
   "id": "27a15962",
   "metadata": {},
   "source": [
    "# Funnel Discovery"
   ]
  },
  {
   "cell_type": "markdown",
   "id": "7a53065c",
   "metadata": {},
   "source": [
    "This example notebook shows how to use the 'Funnel Discovery' model on your data collected with Objectiv.\n",
    "\n",
    "In classical funnel analysis you predefine the steps, and then you analyze the differences for user attributes or behavior in each step. \n",
    "\n",
    "However, this means you have to make assumptions about which steps matter, and you potentially miss important, impactful flows, e.g. because they are not very obvious or still small. Yet these can represent major opportunities to boost or optimize.\n",
    "\n",
    "This is where Funnel Discovery comes in: to discover _all_ the (top) user journeys that lead to conversion or drop-off, and run subsequent analyses on them.\n",
    "\n",
    "In particular, we will discover in this example:\n",
    "\n",
    "- The most popular consecutive steps overall;\n",
    "- The steps/flows which lead to conversion;\n",
    "- The most common drop-offs;\n",
    "- The user journeys from marketing campaigns;\n",
    "- Etcetera.\n",
    "\n",
    "To get started, we first have to instantiate the model hub and an Objectiv DataFrame object."
   ]
  },
  {
   "cell_type": "code",
   "execution_count": null,
   "id": "3959e6a6",
   "metadata": {},
   "outputs": [],
   "source": [
    "# set the timeframe of the analysis\n",
    "start_date = '2022-02-01'\n",
    "end_date = None"
   ]
  },
  {
   "cell_type": "code",
   "execution_count": null,
   "id": "4bd369f6",
   "metadata": {},
   "outputs": [],
   "source": [
    "# instantiate the model hub and set the default time aggregation to daily\n",
    "# and set the global contexts that will be used in this example\n",
    "from modelhub import ModelHub\n",
    "modelhub = ModelHub(time_aggregation='%Y-%m-%d', global_contexts=['application', 'marketing'])\n",
    "# get an Objectiv DataFrame within a defined timeframe\n",
    "df = modelhub.get_objectiv_dataframe(start_date=start_date, end_date=end_date)"
   ]
  },
  {
   "cell_type": "markdown",
   "id": "91837945",
   "metadata": {},
   "source": [
    "The `location_stack` column, and the columns taken from the global contexts, contain most of the event-specific data. These columns are JSON typed, and we can extract data from it using the keys of the JSON objects with [`SeriesLocationStack`](https://objectiv.io/docs/modeling/open-model-hub/api-reference/SeriesLocationStack/SeriesLocationStack/) methods, or the `context` accessor for global context columns. See the [open taxonomy example](open-taxonomy-how-to.ipynb#Location-stack-&-global-contexts) for how to use the `location_stack` and global contexts. "
   ]
  },
  {
   "cell_type": "code",
   "execution_count": null,
   "id": "da4ec1a0",
   "metadata": {},
   "outputs": [],
   "source": [
    "# add specific contexts to the data as columns\n",
    "df['application_id'] = df.application.context.id\n",
    "df['feature_nice_name'] = df.location_stack.ls.nice_name"
   ]
  },
  {
   "cell_type": "code",
   "execution_count": null,
   "id": "d3fec7c6",
   "metadata": {},
   "outputs": [],
   "source": [
    "# select which event type to use for further analysis - PressEvents to focus on what users directly interact with\n",
    "df = df[df['event_type'] == 'PressEvent']"
   ]
  },
  {
   "cell_type": "markdown",
   "id": "1e3cfd71",
   "metadata": {},
   "source": [
    "### Reference\n",
    "* [modelhub.ModelHub](https://objectiv.io/docs/modeling/open-model-hub/api-reference/ModelHub/ModelHub/)\n",
    "* [modelhub.ModelHub.get_objectiv_dataframe](https://objectiv.io/docs/modeling/open-model-hub/api-reference/ModelHub/get_objectiv_dataframe/)\n",
    "* [using global context data](open-taxonomy-how-to.ipynb#Location-stack-&-global-contexts)\n",
    "* [modelhub.SeriesLocationStack.ls](https://objectiv.io/docs/modeling/open-model-hub/api-reference/SeriesLocationStack/ls/)"
   ]
  },
  {
   "cell_type": "markdown",
   "id": "6864ff88",
   "metadata": {},
   "source": [
    "## First: define what is conversion"
   ]
  },
  {
   "cell_type": "markdown",
   "id": "1b92eb2f",
   "metadata": {},
   "source": [
    "As a prerequisite for Funnel Discovery, define the events you see as conversion.\n",
    "\n",
    "In this example we will view someone as converted when they go on to read the documentation from our website, but you can [use any event](https://objectiv.io/docs/modeling/open-model-hub/api-reference/ModelHub/add_conversion_event/)."
   ]
  },
  {
   "cell_type": "code",
   "execution_count": null,
   "id": "3f44b4d0",
   "metadata": {},
   "outputs": [],
   "source": [
    "# define which data to use as conversion events; in this example, anyone who goes on to read the documentation\n",
    "df['is_conversion_event'] = False\n",
    "df.loc[df['application_id'] == 'objectiv-docs', 'is_conversion_event'] = True"
   ]
  },
  {
   "cell_type": "markdown",
   "id": "a24eed6a",
   "metadata": {},
   "source": [
    "Out of curiosity, let's see which features are used by users that converted, sorted by their conversion impact."
   ]
  },
  {
   "cell_type": "code",
   "execution_count": null,
   "id": "45e27d0e",
   "metadata": {},
   "outputs": [],
   "source": [
    "# calculate the percentage of converted users per feature: (converted users per feature) / (total users converted)\n",
    "total_converted_users = df[df['is_conversion_event']]['user_id'].unique().count().value\n",
    "top_conversion_locations = modelhub.agg.unique_users(df[df['is_conversion_event']], \n",
    "                                                     groupby='feature_nice_name')\n",
    "top_conversion_locations = (top_conversion_locations / total_converted_users) * 100\n",
    "\n",
    "# show the results, with .to_frame() for nicer formatting\n",
    "top_conversion_locations = top_conversion_locations.to_frame().rename(\n",
    "    columns={'unique_users': 'converted_users_percentage'})\n",
    "top_conversion_locations.sort_values(by='converted_users_percentage', ascending=False).head()"
   ]
  },
  {
   "cell_type": "markdown",
   "id": "554c0318",
   "metadata": {},
   "source": [
    "### Reference\n",
    "* [bach.Series.unique](https://objectiv.io/docs/modeling/bach/api-reference/Series/unique/)\n",
    "* [bach.DataFrame.count](https://objectiv.io/docs/modeling/bach/api-reference/DataFrame/count/)\n",
    "* [modelhub.Aggregate.unique_users](https://objectiv.io/docs/modeling/open-model-hub/models/aggregation/unique_users/)\n",
    "* [bach.Series.to_frame](https://objectiv.io/docs/modeling/bach/api-reference/Series/to_frame/)\n",
    "* [bach.DataFrame.rename](https://objectiv.io/docs/modeling/bach/api-reference/DataFrame/rename/)\n",
    "* [bach.DataFrame.sort_values](https://objectiv.io/docs/modeling/bach/api-reference/DataFrame/sort_values/)\n",
    "* [bach.DataFrame.head](https://objectiv.io/docs/modeling/bach/api-reference/DataFrame/head/)"
   ]
  },
  {
   "cell_type": "markdown",
   "id": "0fe817bf",
   "metadata": {},
   "source": [
    "## See step sequences per user"
   ]
  },
  {
   "cell_type": "markdown",
   "id": "fa673673",
   "metadata": {},
   "source": [
    "Before we see what helped conversion and what didn't, let's have a look at which consecutive steps each user took (aka the features they used) in general, after starting their session, based on the [location stack](https://objectiv.io/docs/tracking/core-concepts/locations). We have to specify the maximum n steps, and use the [get_navigation_paths](https://objectiv.io/docs/modeling/open-model-hub/models/funnels/FunnelDiscovery/get_navigation_paths) operation."
   ]
  },
  {
   "cell_type": "code",
   "execution_count": null,
   "id": "1cd0f5ad",
   "metadata": {},
   "outputs": [],
   "source": [
    "# instantiate the FunnelDiscovery model from the open model hub\n",
    "funnel = modelhub.get_funnel_discovery()\n",
    "# set the maximum n steps\n",
    "max_steps = 4"
   ]
  },
  {
   "cell_type": "code",
   "execution_count": null,
   "id": "66297c7f",
   "metadata": {},
   "outputs": [],
   "source": [
    "# for every user starting their session, find all maximum n consecutive steps they took\n",
    "df_steps = funnel.get_navigation_paths(df, steps=max_steps, by='user_id')\n",
    "df_steps.head()"
   ]
  },
  {
   "cell_type": "markdown",
   "id": "03402300",
   "metadata": {},
   "source": [
    "### Reference\n",
    "* [modelhub.ModelHub.get_funnel_discovery](https://objectiv.io/docs/modeling/open-model-hub/api-reference/ModelHub/get_funnel_discovery)\n",
    "* [modelhub.models.funnel_discovery.get_navigation_paths](https://objectiv.io/docs/modeling/open-model-hub/models/funnels/FunnelDiscovery/get_navigation_paths)\n",
    "* [bach.DataFrame.head](https://objectiv.io/docs/modeling/bach/api-reference/DataFrame/head/)"
   ]
  },
  {
   "cell_type": "markdown",
   "id": "958d991f",
   "metadata": {},
   "source": [
    "## See top step sequences for all users"
   ]
  },
  {
   "cell_type": "markdown",
   "id": "73637d50",
   "metadata": {},
   "source": [
    "For the bigger picture, calculate the most frequent consecutive steps that all users took after starting their session, based on the [location stack](https://objectiv.io/docs/tracking/core-concepts/locations)."
   ]
  },
  {
   "cell_type": "code",
   "execution_count": null,
   "id": "beb31893",
   "metadata": {
    "scrolled": true
   },
   "outputs": [],
   "source": [
    "df_steps.value_counts().to_frame().head(20)"
   ]
  },
  {
   "cell_type": "markdown",
   "id": "5aab474a",
   "metadata": {},
   "source": [
    "### Reference\n",
    "* [bach.DataFrame.value_counts](https://objectiv.io/docs/modeling/bach/api-reference/DataFrame/value_counts/)\n",
    "* [bach.Series.to_frame](https://objectiv.io/docs/modeling/bach/api-reference/Series/to_frame/)\n",
    "* [bach.DataFrame.head](https://objectiv.io/docs/modeling/bach/api-reference/DataFrame/head/)"
   ]
  },
  {
   "cell_type": "markdown",
   "id": "a2e3b7ce",
   "metadata": {},
   "source": [
    "## See step sequences that lead to conversion"
   ]
  },
  {
   "cell_type": "markdown",
   "id": "f1e31542",
   "metadata": {},
   "source": [
    "Now let's find the sequences that actually lead to conversion."
   ]
  },
  {
   "cell_type": "markdown",
   "id": "25ec5355",
   "metadata": {},
   "source": [
    "First, see which step resulted in conversion to the dataframe, which will be `NaN` for sequences that did not convert."
   ]
  },
  {
   "cell_type": "code",
   "execution_count": null,
   "id": "b4437948",
   "metadata": {},
   "outputs": [],
   "source": [
    "# add which step resulted in conversion to the dataframe, with the `add_conversion_step_column` param\n",
    "df_first_conversion_step = funnel.get_navigation_paths(df, steps=max_steps, by='user_id', add_conversion_step_column=True)\n",
    "df_first_conversion_step.head(10)"
   ]
  },
  {
   "cell_type": "markdown",
   "id": "450b3f24",
   "metadata": {},
   "source": [
    "To filter down to all sequences that have actually converted, use the `only_converted_paths` parameter."
   ]
  },
  {
   "cell_type": "code",
   "execution_count": null,
   "id": "80e61efa",
   "metadata": {},
   "outputs": [],
   "source": [
    "# filter down to all sequences that have actually converted with the `only_converted_paths` param\n",
    "df_steps_till_conversion = funnel.get_navigation_paths(df, steps=max_steps, by='user_id', add_conversion_step_column=True, only_converted_paths=True)\n",
    "df_steps_till_conversion.head(5) "
   ]
  },
  {
   "cell_type": "markdown",
   "id": "5878e668",
   "metadata": {},
   "source": [
    "We can use this to for instance see which sequences converted on the 4th step."
   ]
  },
  {
   "cell_type": "code",
   "execution_count": null,
   "id": "63ac504f",
   "metadata": {},
   "outputs": [],
   "source": [
    "# filter down to sequences that converted on the 4th step\n",
    "condition_convert_on_step_4 = df_steps_till_conversion['_first_conversion_step_number'] == 4\n",
    "df_steps_till_conversion[condition_convert_on_step_4].head()"
   ]
  },
  {
   "cell_type": "markdown",
   "id": "e87c2271",
   "metadata": {},
   "source": [
    "#### Visualize these sequences in a Sankey diagram"
   ]
  },
  {
   "cell_type": "markdown",
   "id": "1bb8ce3b",
   "metadata": {},
   "source": [
    "We can use a Sankey diagram to visualize these customer journeys that lead to conversion (or drop-off). This helps you to select which sequences are most interesting to analyze further.\n",
    "\n",
    "Let's plot it for the example above, where we filtered down to the sequences that converted on the 4th step. The width of each link represents the amount of times that flow was used, and you can hover over each link to see the source and target node."
   ]
  },
  {
   "cell_type": "code",
   "execution_count": null,
   "id": "99f09410",
   "metadata": {},
   "outputs": [],
   "source": [
    "# plot the Sankey diagram using the top 15 examples via the `n_top_examples` param\n",
    "funnel.plot_sankey_diagram(df_steps_till_conversion[condition_convert_on_step_4], n_top_examples=15)"
   ]
  },
  {
   "cell_type": "markdown",
   "id": "8a5086ec",
   "metadata": {},
   "source": [
    "### Reference\n",
    "* [modelhub.models.funnel_discovery.get_navigation_paths](https://objectiv.io/docs/modeling/open-model-hub/models/funnels/FunnelDiscovery/get_navigation_paths)\n",
    "* [modelhub.models.funnel_discovery.plot_sankey_diagram](https://objectiv.io/docs/modeling/open-model-hub/models/funnels/FunnelDiscovery/plot_sankey_diagram)\n",
    "* [bach.DataFrame.head](https://objectiv.io/docs/modeling/bach/api-reference/DataFrame/head/)"
   ]
  },
  {
   "cell_type": "markdown",
   "id": "4e44964e",
   "metadata": {},
   "source": [
    "## Deep-dive: top drop-off features"
   ]
  },
  {
   "cell_type": "markdown",
   "id": "4a7da983",
   "metadata": {},
   "source": [
    "Also interesting to analyze is which features are used relatively often before users drop off. We can do this by finding all _last used_ features by non-converted users, and calculating their usage share."
   ]
  },
  {
   "cell_type": "code",
   "execution_count": null,
   "id": "be3ce5ea",
   "metadata": {},
   "outputs": [],
   "source": [
    "# select only non-converted users\n",
    "df_non_converted = df[~df['is_conversion_event']]\n",
    "converted_users = df[df['is_conversion_event']]['user_id']\n",
    "# select the events of these non converted users\n",
    "df_non_converted = df_non_converted[~df_non_converted['user_id'].isin(converted_users)]"
   ]
  },
  {
   "cell_type": "code",
   "execution_count": null,
   "id": "60637c81",
   "metadata": {},
   "outputs": [],
   "source": [
    "# get the last used feature in the location_stack before dropping off\n",
    "drop_loc = df_non_converted.sort_values('moment').groupby('user_id')['feature_nice_name'].to_json_array().json[-1].materialize()\n",
    "total_count = drop_loc.count().value"
   ]
  },
  {
   "cell_type": "code",
   "execution_count": null,
   "id": "d6a5e2ba",
   "metadata": {},
   "outputs": [],
   "source": [
    "# show the last used features by non-converted users, sorted by their usage share compared to all features\n",
    "drop_loc_percent = (drop_loc.value_counts() / total_count) * 100\n",
    "drop_loc_percent = drop_loc_percent.to_frame().rename(columns={'value_counts': 'drop_percentage'})\n",
    "drop_loc_percent.sort_values(by='drop_percentage', ascending=False).head()"
   ]
  },
  {
   "cell_type": "markdown",
   "id": "b558c7d2",
   "metadata": {},
   "source": [
    "### Reference\n",
    "* [bach.DataFrame.sort_values](https://objectiv.io/docs/modeling/bach/api-reference/DataFrame/sort_values/)\n",
    "* [bach.DataFrame.groupby](https://objectiv.io/docs/modeling/bach/api-reference/DataFrame/groupby/)\n",
    "* [bach.SeriesString.to_json_array](https://objectiv.io/docs/modeling/bach/api-reference/Series/String/to_json_array)\n",
    "* [bach.Series.materialize](https://objectiv.io/docs/modeling/bach/api-reference/Series/materialize/)\n",
    "* [bach.DataFrame.count](https://objectiv.io/docs/modeling/bach/api-reference/DataFrame/count/)\n",
    "* [bach.Series.value_counts](https://objectiv.io/docs/modeling/bach/api-reference/Series/value_counts/)\n",
    "* [bach.Series.to_frame](https://objectiv.io/docs/modeling/bach/api-reference/Series/to_frame/)\n",
    "* [bach.DataFrame.rename](https://objectiv.io/docs/modeling/bach/api-reference/DataFrame/rename/)\n",
    "* [bach.DataFrame.head](https://objectiv.io/docs/modeling/bach/api-reference/DataFrame/head/)"
   ]
  },
  {
   "cell_type": "markdown",
   "id": "118ee1d4",
   "metadata": {},
   "source": [
    "## Deep-dive: marketing campaign journeys"
   ]
  },
  {
   "cell_type": "markdown",
   "id": "99886776",
   "metadata": {},
   "source": [
    "The same analyses can be run for journeys that start from a marketing campaign, e.g. to analyze why campaigns do or do not convert."
   ]
  },
  {
   "cell_type": "code",
   "execution_count": null,
   "id": "64065c83",
   "metadata": {},
   "outputs": [],
   "source": [
    "# first, add marketing data to the dataframe\n",
    "df_marketing = df.copy()\n",
    "df_marketing['utm_campaign'] = df_marketing.marketing.context.campaign\n",
    "# filter the dataframe down to users that came in via a marketing campaign\n",
    "user_list = df_marketing[~df_marketing['utm_campaign'].isnull()].user_id\n",
    "df_marketing = df_marketing[df_marketing['user_id'].isin(user_list)]\n",
    "\n",
    "df_marketing.head()"
   ]
  },
  {
   "cell_type": "markdown",
   "id": "4e4107f5",
   "metadata": {},
   "source": [
    "Let's define what you see as conversion events for these users. In this example, we'll again view someone as converted when they go on to read the documentation from our website, but you can [use any event](https://objectiv.io/docs/modeling/open-model-hub/api-reference/ModelHub/add_conversion_event/)."
   ]
  },
  {
   "cell_type": "code",
   "execution_count": null,
   "id": "ca064f93",
   "metadata": {},
   "outputs": [],
   "source": [
    "# define which data to use as conversion events; in this example, anyone who goes on to read the documentation\n",
    "df_marketing['is_conversion_event'] = False\n",
    "df_marketing.loc[df_marketing['application_id'] == 'objectiv-docs', 'is_conversion_event'] = True"
   ]
  },
  {
   "cell_type": "code",
   "execution_count": null,
   "id": "9845aa7d",
   "metadata": {},
   "outputs": [],
   "source": [
    "# get converted and non converted users as dataframes\n",
    "users_converted = df_marketing[df_marketing['is_conversion_event']].user_id\n",
    "users_non_converted = df_marketing[~df_marketing['user_id'].isin(users_converted)].user_id\n",
    "\n",
    "df_marketing_converted = df_marketing[df_marketing['is_conversion_event']]\n",
    "df_marketing_non_converted = df_marketing[df_marketing['user_id'].isin(users_non_converted)] "
   ]
  },
  {
   "cell_type": "markdown",
   "id": "af2a26dd",
   "metadata": {},
   "source": [
    "For an overall look: let's calculate the share of converted and non-converted users"
   ]
  },
  {
   "cell_type": "code",
   "execution_count": null,
   "id": "7a43f2a4",
   "metadata": {},
   "outputs": [],
   "source": [
    "n_users_converted = df_marketing_converted['user_id'].unique().count().value\n",
    "n_users_non_converted = df_marketing_non_converted['user_id'].unique().count().value\n",
    "n_users_total = n_users_converted + n_users_non_converted\n",
    "\n",
    "print(f'Converted users: {round((n_users_converted / n_users_total) * 100)}%\\n\\\n",
    "Non-converted users: {round((n_users_non_converted / n_users_total) * 100)}%')"
   ]
  },
  {
   "cell_type": "markdown",
   "id": "a7f80cf7",
   "metadata": {},
   "source": [
    "Now we're most interested in the large share of users who did not convert; let's have a look at them next."
   ]
  },
  {
   "cell_type": "markdown",
   "id": "c1eff59a",
   "metadata": {},
   "source": [
    "### Top drop-off features for users from a marketing campaign\n",
    "Similar to before, we will have a look at which features are used relatively often before users drop off, and this time when they came from a marketing campaign."
   ]
  },
  {
   "cell_type": "code",
   "execution_count": null,
   "id": "8e81ce1a",
   "metadata": {},
   "outputs": [],
   "source": [
    "drop_loc = df_marketing_non_converted.sort_values('moment').groupby('user_id')['feature_nice_name'].to_json_array().json[-1].materialize()\n",
    "total_count = drop_loc.count().value\n",
    "\n",
    "drop_loc_percent = (drop_loc.value_counts() / total_count) * 100\n",
    "drop_loc_percent = drop_loc_percent.to_frame().rename(columns={'value_counts': 'drop_percentage'})\n",
    "drop_loc_percent.sort_values(by='drop_percentage', ascending=False).head()"
   ]
  },
  {
   "cell_type": "markdown",
   "id": "709f98cc",
   "metadata": {},
   "source": [
    "### Visualize the sequences in a Sankey diagram for non-converted users from a marketing campaign"
   ]
  },
  {
   "cell_type": "markdown",
   "id": "851df069",
   "metadata": {},
   "source": [
    "Similar to before, we can use a Sankey diagram to visualize the customer journeys, this time the ones that lead to dropped-off  users that came from a marketing campaign.\n",
    "\n",
    "Remember that the width of each link represents the amount of times that flow was used, and you can hover over each link to see the source and target node."
   ]
  },
  {
   "cell_type": "code",
   "execution_count": null,
   "id": "ae29b33b",
   "metadata": {},
   "outputs": [],
   "source": [
    "# for BigQuery: if the query is too complex, you can add a temporary table, e.g.\n",
    "# df_marketing_non_converted = df_marketing_non_converted.materialize(materialization='temp_table')\n",
    "\n",
    "max_steps = 4\n",
    "df_steps = funnel.get_navigation_paths(df_marketing_non_converted, steps=max_steps, by='user_id')\n",
    "funnel.plot_sankey_diagram(df_steps, n_top_examples=15)"
   ]
  },
  {
   "cell_type": "markdown",
   "id": "e14a0180",
   "metadata": {},
   "source": [
    "### Reference\n",
    "* [bach.DataFrame.copy](https://objectiv.io/docs/modeling/bach/api-reference/DataFrame/copy/)\n",
    "* [using global context data](open-taxonomy-how-to.ipynb#Location-stack-&-global-contexts)\n",
    "* [bach.Series.isnull](https://objectiv.io/docs/modeling/bach/api-reference/Series/isnull/)\n",
    "* [bach.Series.isin](https://objectiv.io/docs/modeling/bach/api-reference/Series/isin/)\n",
    "* [bach.DataFrame.head](https://objectiv.io/docs/modeling/bach/api-reference/DataFrame/head/)\n",
    "* [bach.DataFrame.loc](https://objectiv.io/docs/modeling/bach/api-reference/DataFrame/loc/)\n",
    "* [bach.Series.unique](https://objectiv.io/docs/modeling/bach/api-reference/Series/unique/)\n",
    "* [bach.DataFrame.count](https://objectiv.io/docs/modeling/bach/api-reference/DataFrame/count/)\n",
    "* [bach.DataFrame.sort_values](https://objectiv.io/docs/modeling/bach/api-reference/DataFrame/sort_values/)\n",
    "* [bach.DataFrame.groupby](https://objectiv.io/docs/modeling/bach/api-reference/DataFrame/groupby/)\n",
    "* [bach.SeriesString.to_json_array](https://objectiv.io/docs/modeling/bach/api-reference/Series/String/to_json_array)\n",
    "* [bach.Series.materialize](https://objectiv.io/docs/modeling/bach/api-reference/Series/materialize/)\n",
    "* [bach.Series.value_counts](https://objectiv.io/docs/modeling/bach/api-reference/Series/value_counts/)\n",
    "* [bach.Series.to_frame](https://objectiv.io/docs/modeling/bach/api-reference/Series/to_frame/)\n",
    "* [bach.DataFrame.rename](https://objectiv.io/docs/modeling/bach/api-reference/DataFrame/rename/)"
   ]
  },
  {
   "cell_type": "markdown",
   "id": "63bfe7d2-24e7-4607-8fcb-9ac12aed1ec0",
   "metadata": {},
   "source": [
    "## Get the SQL for any analysis\n",
    "The SQL for any analysis can be exported with one command, so you can use models in production directly to simplify data debugging & delivery to BI tools like Metabase, dbt, etc. See how you can [quickly create BI dashboards with this](https://objectiv.io/docs/home/try-the-demo#creating-bi-dashboards)."
   ]
  },
  {
   "cell_type": "markdown",
   "id": "b0af4b91",
   "metadata": {
    "jp-MarkdownHeadingCollapsed": true,
    "tags": []
   },
   "source": [
    "## Where to go next\n",
    "Now that you've discovered the customer journeys that lead to conversion or drop-off, you can further analyze each of them to understand which ones could be optimized, or should get more/less focus. Another next step could be to have a more in-depth look at the marketing campaign data differences per source. \n",
    "\n",
    "See the [open taxonomy example](open-taxonomy-how-to.ipynb) for more on how to use open taxonomy based data, or have a look at the other example notebooks for other use cases."
   ]
  }
 ],
 "metadata": {
  "kernelspec": {
   "display_name": "Python 3 (ipykernel)",
   "language": "python",
   "name": "python3"
  },
  "language_info": {
   "codemirror_mode": {
    "name": "ipython",
    "version": 3
   },
   "file_extension": ".py",
   "mimetype": "text/x-python",
   "name": "python",
   "nbconvert_exporter": "python",
   "pygments_lexer": "ipython3",
   "version": "3.8.10"
  }
 },
 "nbformat": 4,
 "nbformat_minor": 5
}
