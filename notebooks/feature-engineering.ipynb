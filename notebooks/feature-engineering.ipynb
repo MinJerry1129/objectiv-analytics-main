{
 "cells": [
  {
   "cell_type": "markdown",
   "id": "8d73f976",
   "metadata": {},
   "source": [
    "This is one of the Objectiv example notebooks. For more examples visit the \n",
    "[example notebooks](https://objectiv.io/docs/modeling/example-notebooks/) section of our docs. The notebooks can run with the demo data set that comes with the our [quickstart](https://objectiv.io/docs/home/try-the-demo/), but can be used to run on your own collected data as well.\n",
    "\n",
    "All example notebooks are also available in our [quickstart](https://objectiv.io/docs/home/try-the-demo/). With the quickstart you can spin up a fully functional Objectiv demo pipeline in five minutes. This also allows you to run these notebooks and experiment with them on a demo data set."
   ]
  },
  {
   "cell_type": "markdown",
   "id": "0371a170",
   "metadata": {},
   "source": [
    "This example shows how Bach can be used for feature engineering. We'll go through describing the data, finding\n",
    "outliers, transforming data and grouping and aggregating data so that a useful feature set is created that\n",
    "can be used for machine learning. We have a separate example available that goes into the details of how a\n",
    "data set prepared in Bach can be used for machine learning with sklearn [here](https://objectiv.io/docs/modeling/example-notebooks/machine-learning/)."
   ]
  },
  {
   "cell_type": "markdown",
   "id": "6808e5c8-943b-455c-b6c3-fa0ad0c72fcc",
   "metadata": {},
   "source": [
    "## Getting started\n",
    "If you are running this example on your own collected data, [see the instructions here](https://objectiv.io/docs/modeling/get-started-in-your-notebook/) on how to setup the database connection and get started in your favorite notebook tool."
   ]
  },
  {
   "cell_type": "markdown",
   "id": "26b3e3ad",
   "metadata": {},
   "source": [
    "### Import the required packages for this notebook\n",
    "The open model hub package can be installed with `pip install objectiv-modelhub` (this installs Bach as well).  \n",
    "If you are running this notebook from our quickstart, the model hub and Bach are already installed, so you don't have to install it separately."
   ]
  },
  {
   "cell_type": "code",
   "execution_count": null,
   "id": "e97ff289",
   "metadata": {},
   "outputs": [],
   "source": [
    "from modelhub import ModelHub"
   ]
  },
  {
   "cell_type": "markdown",
   "id": "554bcb44",
   "metadata": {},
   "source": [
    "At first we have to instantiate the Objectiv DataFrame object and the model hub."
   ]
  },
  {
   "cell_type": "code",
   "execution_count": null,
   "id": "38088ea0-66ce-46c2-9217-a43112fb5cf7",
   "metadata": {},
   "outputs": [],
   "source": [
    "# instantiate the model hub\n",
    "modelhub = ModelHub(time_aggregation='%Y-%m-%d')"
   ]
  },
  {
   "cell_type": "code",
   "execution_count": null,
   "id": "d582b77f",
   "metadata": {},
   "outputs": [],
   "source": [
    "# get the Bach DataFrame with Objectiv data\n",
    "df = modelhub.get_objectiv_dataframe(start_date='2022-02-02')"
   ]
  },
  {
   "cell_type": "markdown",
   "id": "3c97f188",
   "metadata": {},
   "source": [
    "### describe all data"
   ]
  },
  {
   "cell_type": "code",
   "execution_count": null,
   "id": "e76ac10d",
   "metadata": {
    "scrolled": true
   },
   "outputs": [],
   "source": [
    "df.describe(include='all').head()"
   ]
  },
  {
   "cell_type": "markdown",
   "id": "746c05af",
   "metadata": {},
   "source": [
    "We start with showing the first couple of rows from the data set and describing the entire data set."
   ]
  },
  {
   "cell_type": "code",
   "execution_count": null,
   "id": "cce4ef5a",
   "metadata": {},
   "outputs": [],
   "source": [
    "df.head()"
   ]
  },
  {
   "cell_type": "markdown",
   "id": "ce646300",
   "metadata": {},
   "source": [
    "Columns of interest are 'user_id', this is what we will aggregate to. 'moment' contains timestamp info for the\n",
    "events. Global contexts (not present in this example) and the 'location_stack' contain most of the event specific data. The global contexts that you want to use in the analysis need to be set when instantiating the model hub. See the [open taxonomy example](open-taxonomy-how-to.ipynb#Location-stack-&-global-contexts) for how to use the location stack and global contexts."
   ]
  },
  {
   "cell_type": "code",
   "execution_count": null,
   "id": "8aa95ea4",
   "metadata": {},
   "outputs": [],
   "source": [
    "df.describe(include='all').head()"
   ]
  },
  {
   "cell_type": "markdown",
   "id": "bbffda98",
   "metadata": {},
   "source": [
    "### Creating a feature set \n",
    "We'd like to create a feature set that describes the behaviour of users in a way. We start with extracting\n",
    "the root location from the location stack. This indicates what parts of our website users have visited. Using\n",
    "`to_numpy()` shows the results as a numpy array."
   ]
  },
  {
   "cell_type": "code",
   "execution_count": null,
   "id": "3b6aefac",
   "metadata": {},
   "outputs": [],
   "source": [
    "df['root'] = df.location_stack.ls.get_from_context_with_type_series(type='RootLocationContext', key='id')\n",
    "\n",
    "# root series is later unstacked and its values might contain dashes\n",
    "# which are not allowed in BigQuery column names, lets replace them\n",
    "df['root'] = df['root'].str.replace('-', '_')\n",
    "df.root.unique().to_numpy()"
   ]
  },
  {
   "cell_type": "markdown",
   "id": "86e7a96b",
   "metadata": {},
   "source": [
    "`['jobs', 'docs', 'home'...]` etc is returned, the sections of the objectiv.io website."
   ]
  },
  {
   "cell_type": "markdown",
   "id": "ec39a5b2",
   "metadata": {},
   "source": [
    "### check missing values"
   ]
  },
  {
   "cell_type": "code",
   "execution_count": null,
   "id": "749077bb",
   "metadata": {},
   "outputs": [],
   "source": [
    "df.root.isnull().value_counts().head()"
   ]
  },
  {
   "cell_type": "markdown",
   "id": "c6a7dfd2",
   "metadata": {},
   "source": [
    "A quick check learns us that there are no missing values to worry about. Now we want a data set with\n",
    "interactions on our different sections, in particular, presses. This is an event type. We first want an\n",
    "overview of the different event types that exist and select the one we are interested in."
   ]
  },
  {
   "cell_type": "code",
   "execution_count": null,
   "id": "380b60b4",
   "metadata": {},
   "outputs": [],
   "source": [
    "df.event_type.unique().to_numpy()"
   ]
  },
  {
   "cell_type": "code",
   "execution_count": null,
   "id": "33ad2374",
   "metadata": {},
   "outputs": [],
   "source": [
    "df[(df.event_type=='PressEvent')].root.unique().to_numpy()"
   ]
  },
  {
   "cell_type": "code",
   "execution_count": null,
   "id": "763b738e",
   "metadata": {},
   "outputs": [],
   "source": [
    "df[(df.event_type=='PressEvent')].describe(include='string').head()"
   ]
  },
  {
   "cell_type": "markdown",
   "id": "4406a7a3",
   "metadata": {},
   "source": [
    "### Creating the variables\n",
    "We are interested in 'PressEvent'. The next code block shows that we select only press events and then group\n",
    "by 'user_id' and 'root' and count the session_hit_number. After that the results are unstacked, resulting in\n",
    "a table where each row represents a user (the index is 'user_id') and the columns are the different root\n",
    "locations and its values are the number of times a user clicked in that sections."
   ]
  },
  {
   "cell_type": "code",
   "execution_count": null,
   "id": "83127b2b",
   "metadata": {},
   "outputs": [],
   "source": [
    "features = df[(df.event_type=='PressEvent')].groupby(['user_id','root']).session_hit_number.count()"
   ]
  },
  {
   "cell_type": "code",
   "execution_count": null,
   "id": "7151b993",
   "metadata": {},
   "outputs": [],
   "source": [
    "features_unstacked = features.unstack()"
   ]
  },
  {
   "cell_type": "code",
   "execution_count": null,
   "id": "78ba9cb3",
   "metadata": {},
   "outputs": [],
   "source": [
    "features_unstacked.materialize().describe().head()"
   ]
  },
  {
   "cell_type": "code",
   "execution_count": null,
   "id": "f20c9553",
   "metadata": {},
   "outputs": [],
   "source": [
    "features_unstacked.head()"
   ]
  },
  {
   "cell_type": "markdown",
   "id": "804874af",
   "metadata": {},
   "source": [
    "### Fill empty values\n",
    "Now we do have empty values, so we fill them with 0, as empty means that the user did not click in the\n",
    "section."
   ]
  },
  {
   "cell_type": "code",
   "execution_count": null,
   "id": "b13a2406",
   "metadata": {},
   "outputs": [],
   "source": [
    "features_unstacked = features.unstack(fill_value=0)"
   ]
  },
  {
   "cell_type": "markdown",
   "id": "3917a31d",
   "metadata": {},
   "source": [
    "### Describe the data set\n",
    "We use describe again to get an impression of out created per-user data set."
   ]
  },
  {
   "cell_type": "code",
   "execution_count": null,
   "id": "3536706e",
   "metadata": {},
   "outputs": [],
   "source": [
    "features_unstacked.materialize().describe().head()"
   ]
  },
  {
   "cell_type": "markdown",
   "id": "17432bf5",
   "metadata": {},
   "source": [
    "Looking at the mean, some sections seem to be used a lot more than others. Also the max\n",
    "number of clicks seems quite different per root section. This information can be used to drop some of the\n",
    "variables from our data set or the use scaling or outlier detection. We will plot histograms for the"
   ]
  },
  {
   "cell_type": "markdown",
   "id": "31d779c8",
   "metadata": {},
   "source": [
    "### Visualize the data"
   ]
  },
  {
   "cell_type": "code",
   "execution_count": null,
   "id": "6b8306ad",
   "metadata": {},
   "outputs": [],
   "source": [
    "from matplotlib import pyplot as plt\n",
    "import math\n",
    "\n",
    "figure, axis = plt.subplots(math.ceil(len(features_unstacked.data_columns)/4), 4, figsize=(15,10))\n",
    "\n",
    "for idx, name in enumerate(features_unstacked.data_columns):\n",
    "    features_unstacked[[name]].plot.hist(bins=5, title=name, ax=axis.flat[idx])\n",
    "plt.tight_layout()"
   ]
  },
  {
   "cell_type": "markdown",
   "id": "518c590e",
   "metadata": {},
   "source": [
    "The histograms show that indeed the higher values seem quite anomalous for most of the root locations. This\n",
    "could be a reason to drop some of these observations or resort to scaling methods. For now we continue with\n",
    "the data set as is."
   ]
  },
  {
   "cell_type": "markdown",
   "id": "e796d882",
   "metadata": {},
   "source": [
    "### Add time feature\n",
    "Now we want to add some time feature to our data set. We add the average session length per user to the data\n",
    "set. We can use the model hub for this. `fillna` is used to fill missing values."
   ]
  },
  {
   "cell_type": "code",
   "execution_count": null,
   "id": "bced215a",
   "metadata": {},
   "outputs": [],
   "source": [
    "import datetime\n",
    "\n",
    "features_unstacked['session_duration'] = modelhub.aggregate.session_duration(df, groupby='user_id')\n",
    "features_unstacked['session_duration'] = features_unstacked['session_duration'].fillna(datetime.timedelta(0))"
   ]
  },
  {
   "cell_type": "code",
   "execution_count": null,
   "id": "e0d7e29b",
   "metadata": {},
   "outputs": [],
   "source": [
    "features_unstacked.session_duration.describe().head()"
   ]
  },
  {
   "cell_type": "markdown",
   "id": "2a771131",
   "metadata": {},
   "source": [
    "### Export to pandas for sklearn\n",
    "Now that we have our data set, we can use it for machine learning, using for example sklearn. To do so\n",
    "we call `to_pandas()` to get a pandas DataFrame that can be used in sklearn.\n",
    "\n",
    "Here is our example on how to use Objectiv data and [sklearn](https://objectiv.io/docs/modeling/example-notebooks/machine-learning/)."
   ]
  },
  {
   "cell_type": "code",
   "execution_count": null,
   "id": "1d14b11d",
   "metadata": {},
   "outputs": [],
   "source": [
    "pdf = features_unstacked.to_pandas()"
   ]
  },
  {
   "cell_type": "code",
   "execution_count": null,
   "id": "123e667a",
   "metadata": {},
   "outputs": [],
   "source": [
    "pdf"
   ]
  }
 ],
 "metadata": {
  "kernelspec": {
   "display_name": "Python 3 (ipykernel)",
   "language": "python",
   "name": "python3"
  },
  "language_info": {
   "codemirror_mode": {
    "name": "ipython",
    "version": 3
   },
   "file_extension": ".py",
   "mimetype": "text/x-python",
   "name": "python",
   "nbconvert_exporter": "python",
   "pygments_lexer": "ipython3",
   "version": "3.9.4"
  }
 },
 "nbformat": 4,
 "nbformat_minor": 5
}
