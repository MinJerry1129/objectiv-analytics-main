{
 "cells": [
  {
   "cell_type": "markdown",
   "id": "a88d78f5",
   "metadata": {},
   "source": [
    "This is one of the Objectiv example notebooks. For more examples visit the \n",
    "[example notebooks](https://objectiv.io/docs/modeling/example-notebooks/) section of our docs. The notebooks can run with the demo data set that comes with the our [quickstart](https://objectiv.io/docs/home/try-the-demo/), but can be used to run on your own collected data as well.\n",
    "\n",
    "All example notebooks are also available in our [quickstart](https://objectiv.io/docs/home/try-the-demo/). With the quickstart you can spin up a fully functional Objectiv demo pipeline in five minutes. This also allows you to run these notebooks and experiment with them on a demo data set."
   ]
  },
  {
   "cell_type": "markdown",
   "id": "25b2e58e",
   "metadata": {},
   "source": [
    "# Intro\n",
    "In this notebook, we briefly demonstrate how you can use pre-built models from the [open model hub](https://objectiv.io/docs/modeling/) in conjunction with our modeling library [Bach](https://objectiv.io/docs/modeling/bach/) to quickly build model stacks to answer common product analytics questions.\n",
    "\n",
    "This example uses real, unaltered data that was collected from https://objectiv.io/ with Objectiv’s Tracker. All models in the open model hub are compatible with data sets that have been validated against the [open analytics taxonomy](https://objectiv.io/docs/taxonomy/).\n",
    "\n",
    "For an overview of all available models, check out the [open model hub docs](https://objectiv.io/docs/modeling/open-model-hub/models/)."
   ]
  },
  {
   "cell_type": "markdown",
   "id": "427609c1-99ec-4513-9487-0eab6930de2d",
   "metadata": {},
   "source": [
    "## Getting started\n",
    "If you are running this example on your own collected data, [see the instructions here](https://objectiv.io/docs/modeling/get-started-in-your-notebook/) on how to setup the database connection and get started in your favorite notebook tool."
   ]
  },
  {
   "cell_type": "markdown",
   "id": "baaf0d2d",
   "metadata": {
    "tags": []
   },
   "source": [
    "### Import the required packages for this notebook\n",
    "The open model hub package can be installed with `pip install objectiv-modelhub` (this installs Bach as well).  \n",
    "If you are running this notebook from our quickstart, the model hub and Bach are already installed, so you don't have to install it separately."
   ]
  },
  {
   "cell_type": "code",
   "execution_count": null,
   "id": "e97ff289",
   "metadata": {},
   "outputs": [],
   "source": [
    "from modelhub import ModelHub, display_sql_as_markdown"
   ]
  },
  {
   "cell_type": "markdown",
   "id": "e032c7c8",
   "metadata": {},
   "source": [
    "# Instantiate the model hub object\n",
    "As a first step, the model hub object is instantiated. The model hub contains collection of data models and convenience functions that can be used with Objectiv data. With `get_objectiv_dataframe()` a Bach DataFrame is created, that already has all columns and data types set correctly and as such can always be used with model hub models.\n",
    "\n",
    "Bach is Objectiv’s data modeling library. With Bach, you can use familiar Pandas-like DataFrame operations in your notebook. It uses a SQL abstraction layer that enables models to run on the full dataset, and you can output models to SQL with a single command.\n",
    "\n",
    "The Objectiv Bach api is heavily inspired by the pandas api. We believe this provides a great, generic interface to handle large amounts of data in a python environment while supporting multiple data stores. For more details on Objectiv Bach, visit the docs.\n",
    "\n",
    "This object points to the data on which the models from the open model hub will be applied. The `time_aggregation` parameter determines the standard timeframe that is used with aggregation functions from the model hub. Ie. '%Y-%m-%d' means that days are used for the time aggregation. Only data starting at `start_date` is used for all following operations."
   ]
  },
  {
   "cell_type": "markdown",
   "id": "aeab3a00",
   "metadata": {},
   "source": [
    "**Note**  \n",
    "All operation and models in this notebook are run directly on entire data set in the SQL database using Bach. While the api resembles pandas, pandas is _not_ used for any the operations and calculations."
   ]
  },
  {
   "cell_type": "code",
   "execution_count": null,
   "id": "8d7ad565-6725-4d70-b679-d08aba0e197d",
   "metadata": {},
   "outputs": [],
   "source": [
    "# instantiate the model hub\n",
    "modelhub = ModelHub(time_aggregation='%Y-%m-%d')"
   ]
  },
  {
   "cell_type": "code",
   "execution_count": null,
   "id": "d582b77f",
   "metadata": {},
   "outputs": [],
   "source": [
    "# get the Bach DataFrame with Objectiv data\n",
    "df = modelhub.get_objectiv_dataframe(start_date='2021-11-16')"
   ]
  },
  {
   "cell_type": "markdown",
   "id": "1077acee",
   "metadata": {
    "tags": []
   },
   "source": [
    "# Using the open model hub\n",
    "The open model hub is a growing collection of open-source, free to use data models that you can take,\n",
    "combine and run for product analysis and exploration. It includes models for a wide range of typical product\n",
    "analytics use cases. The source is available for all models and you're free to make any changes to them. \n",
    "\n",
    "The model hub has three types of functions/models:\n",
    "1. [Helper functions](https://objectiv.io/docs/modeling/open-model-hub/models/helper-functions/). These helper functions simplify manipulating and analyzing the data.\n",
    "2. [Aggregation models](https://objectiv.io/docs/modeling/open-model-hub/models/aggregation/). These models consist of a combination of Bach instructions that run some of the more common data analyses or product analytics metrics.\n",
    "3. [Machine learning models](https://objectiv.io/docs/modeling/open-model-hub/models/machine-learning/).\n",
    "\n",
    "Helper functions always return a series with the same shape and index as the\n",
    "DataFrame they are applied to. This ensures they can be added as a column to that\n",
    "DataFrame. Helper functions that return SeriesBoolean can be used to filter\n",
    "the data. The helper functions can be accessed with the `map` accessor from a\n",
    "model hub instance.\n",
    "\n",
    "Aggregation models perform multiple Bach instructions that run some of the more common data analyses or\n",
    "product analytics metrics. Always return aggregated data in some form from the DataFrame the model is applied to. Aggregation models can be accessed with the `aggregate` accessor from a model hub instance.\n",
    "\n",
    "Most of the model hub helper functions and aggregation models take `data` as their first argument: this is\n",
    "the DataFrame with the Objectiv data to apply the model to. For an example of a machine learning model look\n",
    "at the [logistic regression example](https://objectiv.io/docs/modeling/example-notebooks/logistic-regression/).\n",
    "\n",
    "This notebook demonstrates how to use the model hub by showcasing a selection of the models from the model hub."
   ]
  },
  {
   "cell_type": "markdown",
   "id": "e9f3070b",
   "metadata": {},
   "source": [
    "## A simple aggregation model\n",
    "Calculating the unique users is one of the basic models in the model hub. As it is an aggregation model, it is called with `model_hub.aggregate.unique_users()`. It uses the time_aggregation that is set when the model hub was instantiated. With `.head()` we immediately query the data to show the results. `.to_pandas()` can be used to use all results as a pandas object in python. These (and following) results are sorted descending, so we show the latest data first."
   ]
  },
  {
   "cell_type": "code",
   "execution_count": null,
   "id": "65632d2b",
   "metadata": {},
   "outputs": [],
   "source": [
    "users = modelhub.aggregate.unique_users(df)\n",
    "users.sort_index(ascending=False).head(10)"
   ]
  },
  {
   "cell_type": "markdown",
   "id": "0c366433",
   "metadata": {},
   "source": [
    "## Using `map` with the model hub & combining models\n",
    "This example shows how you use map to label users as a new user. This uses *time_aggregation*. As *time_aggregation* was set to '%Y-%m-%d' it means all hits are labeled as new for the entire day in which the user had its first session."
   ]
  },
  {
   "cell_type": "code",
   "execution_count": null,
   "id": "10436e1e",
   "metadata": {},
   "outputs": [],
   "source": [
    "df['is_new_user'] = modelhub.map.is_new_user(df)\n",
    "df.is_new_user.head(10)"
   ]
  },
  {
   "cell_type": "markdown",
   "id": "d46cba1e",
   "metadata": {},
   "source": [
    "Or we can label conversion events. To do this we first have to define what a conversion is by setting the type of event and the location on the product at which this event was triggered with `add_conversion_event` (this is called the location stack, see [here](https://objectiv.io/docs/modeling/example-notebooks/open-taxonomy/#location_stack) for info)."
   ]
  },
  {
   "cell_type": "code",
   "execution_count": null,
   "id": "61d9bfeb",
   "metadata": {},
   "outputs": [],
   "source": [
    "modelhub.add_conversion_event(location_stack=df.location_stack.json[{'id': 'Quickstart Guide', '_type': 'LinkContext'}:],\n",
    "                              event_type='PressEvent',\n",
    "                              name='quickstart_presses')\n",
    "df['conversion_events'] = modelhub.map.is_conversion_event(df, 'quickstart_presses')\n",
    "df.conversion_events.head(10)"
   ]
  },
  {
   "cell_type": "markdown",
   "id": "80e05aa2",
   "metadata": {},
   "source": [
    "### Map, filter, aggregate\n",
    "As the map functions above retured a SeriesBoolean, they can be used in the model hub combined with a filter and aggregation models. We use the same aggregation model we showed earlier (`unique_users`), but now with the filter `df.conversion_events` applied. This gives the unique converted users per day."
   ]
  },
  {
   "cell_type": "code",
   "execution_count": null,
   "id": "4493d730",
   "metadata": {},
   "outputs": [],
   "source": [
    "modelhub.aggregate.unique_users(df[df.conversion_events]).sort_index(ascending=False).head(10)"
   ]
  },
  {
   "cell_type": "markdown",
   "id": "48dfaca9",
   "metadata": {},
   "source": [
    "Similarly, we can use other aggregation models from the model hub. In the example below, the average session duration is calculated for new users."
   ]
  },
  {
   "cell_type": "code",
   "execution_count": null,
   "id": "65d52c00",
   "metadata": {},
   "outputs": [],
   "source": [
    "duration_new_users = modelhub.aggregate.session_duration(df[df.is_new_user])\n",
    "duration_new_users.sort_index(ascending=False).head(10)"
   ]
  },
  {
   "cell_type": "markdown",
   "id": "7be6e13c",
   "metadata": {},
   "source": [
    "### Combining model results\n",
    "Results from aggregation models can be used together if they share the same index type (similar to pandas). In this example the share of new users per day is calculated."
   ]
  },
  {
   "cell_type": "code",
   "execution_count": null,
   "id": "ad6396fe",
   "metadata": {},
   "outputs": [],
   "source": [
    "new_user_share = modelhub.agg.unique_users(df[df.is_new_user]) / modelhub.agg.unique_users(df)\n",
    "new_user_share.sort_index(ascending=False).head(10)"
   ]
  },
  {
   "cell_type": "markdown",
   "id": "822b577b",
   "metadata": {},
   "source": [
    "### Using multiple model hub filters"
   ]
  },
  {
   "cell_type": "markdown",
   "id": "57f59b2c",
   "metadata": {},
   "source": [
    "The model hub's map results can be combined and reused. In this example we set two helper function's results\n",
    "as a column to the original DataFrame and use them both to filter the data and apply an aggregation model.\n",
    "In this example we calculate the number of users that were new in a month and also that converted twice on a day."
   ]
  },
  {
   "cell_type": "code",
   "execution_count": null,
   "id": "5b7b1490",
   "metadata": {},
   "outputs": [],
   "source": [
    "df['is_new_user_month'] = modelhub.map.is_new_user(df, time_aggregation = '%Y-%m')\n",
    "df['is_twice_converted'] = modelhub.map.conversions_in_time(df, name='quickstart_presses')==2\n",
    "modelhub.aggregate.unique_users(df[df.is_new_user_month & df.is_twice_converted]).sort_index(ascending=False).head()"
   ]
  },
  {
   "cell_type": "markdown",
   "id": "65575126",
   "metadata": {},
   "source": [
    "## What's next?\n",
    "There are several options on how to continue working with the data or using the results otherwise, i.e. for visualization."
   ]
  },
  {
   "cell_type": "markdown",
   "id": "297ef877",
   "metadata": {},
   "source": [
    "### 1. Export models to SQL\n",
    "As mentioned, all operations and models performed on the DataFrame are run on the SQL database. Therefore it is possible to view all objects as an SQL statement. For the `new_user_share` results that was created this looks as follows:"
   ]
  },
  {
   "cell_type": "code",
   "execution_count": null,
   "id": "5655bb43",
   "metadata": {},
   "outputs": [],
   "source": [
    "# complex SQL statement alert!\n",
    "display_sql_as_markdown(new_user_share)"
   ]
  },
  {
   "cell_type": "markdown",
   "id": "cdb8c7be-3767-4cac-ae18-652c2eac76c0",
   "metadata": {},
   "source": [
    "The SQL for any analysis can be exported with this one command, so you can use models in production directly to simplify data debugging & delivery to BI tools like Metabase, dbt, etc. See how you can [quickly create BI dashboards with this](https://objectiv.io/docs/home/try-the-demo#creating-bi-dashboards)."
   ]
  },
  {
   "cell_type": "markdown",
   "id": "c7522e41",
   "metadata": {},
   "source": [
    "### 2. Further data crunching using the Bach Modeling Library\n",
    "All results from the model hub are in the form of Bach DataFrames or Series. This makes the model hub and Bach work seamlessly together."
   ]
  },
  {
   "cell_type": "code",
   "execution_count": null,
   "id": "ac530557",
   "metadata": {},
   "outputs": [],
   "source": [
    "# We'll do a lot of operations on the data in the df DataFrame. To make this easier for the\n",
    "# database (especially BigQuery), we tell Bach to materialize the current DataFrame as temporary\n",
    "# table. This statement has no direct effect, but any invocation of head() on the dataframe later\n",
    "# on will consist of two queries: one to create a temporary table with the current state of the\n",
    "# dataframe, and one that queries that table and does subsequent operations\n",
    "df = df.materialize(materialization='temp_table')"
   ]
  },
  {
   "cell_type": "code",
   "execution_count": null,
   "id": "82a9e8ca",
   "metadata": {},
   "outputs": [],
   "source": [
    "# label the number of time a user is converted in a session at a moment using the model hub.\n",
    "df['conversion_count'] = modelhub.map.conversions_in_time(df, name='quickstart_presses')\n",
    "\n",
    "# use Bach to do any supported operation using pandas syntax.\n",
    "# select users that converted\n",
    "converted_users = df[df.conversion_events].user_id.unique()\n",
    "# select PressEvents of users that converted\n",
    "df_selection = df[(df.event_type == 'PressEvent') &\n",
    "                  (df.user_id.isin(converted_users))]\n",
    "# calculate the number of PressEvents before conversion per session\n",
    "presses_per_session = df_selection[df_selection.conversion_count == 0].groupby('session_id').session_hit_number.count()"
   ]
  },
  {
   "cell_type": "markdown",
   "id": "15f2ab4d",
   "metadata": {},
   "source": [
    "Show the results, now the underlying query is executed."
   ]
  },
  {
   "cell_type": "code",
   "execution_count": null,
   "id": "53d38855",
   "metadata": {},
   "outputs": [],
   "source": [
    "presses_per_session.head()"
   ]
  },
  {
   "cell_type": "markdown",
   "id": "670dde5e",
   "metadata": {},
   "source": [
    "There is another [example](https://objectiv.io/docs/modeling/bach/examples/) that demonstrates what you can do with the Bach modeling\n",
    "library, or head over to the [api reference](https://objectiv.io/docs/modeling/bach/api-reference/) for a complete overview of the possibilities."
   ]
  },
  {
   "cell_type": "markdown",
   "id": "089230c9",
   "metadata": {},
   "source": [
    "### 3. Export DataFrame and model hub results to pandas DataFrame\n",
    "Bach DataFrames and/or model hub results can always be exported to pandas. Since Bach DataFrame operation run on the full dataset in the SQL database, it is recommended to export to pandas if data small enough; ie by aggregation or selection.  \n",
    "By exporting the data to pandas you can use all the options from pandas as well as pandas compatible ML packages.\n",
    "\n",
    "We plot the previously calculated presses per session before conversion using pandas built-in plotting methods."
   ]
  },
  {
   "cell_type": "code",
   "execution_count": null,
   "id": "c7e07fe5",
   "metadata": {},
   "outputs": [],
   "source": [
    "# presses_per_session_pd is a pandas Series\n",
    "presses_per_session_pd = presses_per_session.to_pandas()\n",
    "presses_per_session_pd.hist()"
   ]
  },
  {
   "cell_type": "markdown",
   "id": "c964f0a9",
   "metadata": {},
   "source": [
    "This concludes the open model hub demo.\n",
    "\n",
    "We hope you’ve gotten a taste of the power and flexibility of the open model hub to quickly answer common product analytics questions. You can take it a lot further and build highly specific model stacks for in-depth analysis and exploration.\n",
    "\n",
    "For a complete overview of all available and upcoming models, check out the [model hub docs](https://objectiv.io/docs/modeling/open-model-hub/models/)."
   ]
  }
 ],
 "metadata": {
  "kernelspec": {
   "display_name": "Python 3 (ipykernel)",
   "language": "python",
   "name": "python3"
  },
  "language_info": {
   "codemirror_mode": {
    "name": "ipython",
    "version": 3
   },
   "file_extension": ".py",
   "mimetype": "text/x-python",
   "name": "python",
   "nbconvert_exporter": "python",
   "pygments_lexer": "ipython3",
   "version": "3.9.10"
  }
 },
 "nbformat": 4,
 "nbformat_minor": 5
}
