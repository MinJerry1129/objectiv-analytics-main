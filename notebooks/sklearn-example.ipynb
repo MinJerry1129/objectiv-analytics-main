{
 "cells": [
  {
   "cell_type": "markdown",
   "id": "6166232a",
   "metadata": {},
   "source": [
    "This is one of the Objectiv example notebooks. For more examples visit the \n",
    "[example notebooks](https://objectiv.io/docs/modeling/example-notebooks/) section of our docs. The notebooks can run with the demo data set that comes with the our [quickstart](https://objectiv.io/docs/home/try-the-demo/), but can be used to run on your own collected data as well.\n",
    "\n",
    "All example notebooks are also available in our [quickstart](https://objectiv.io/docs/home/try-the-demo/). With the quickstart you can spin up a fully functional Objectiv demo pipeline in five minutes. This also allows you to run these notebooks and experiment with them on a demo data set."
   ]
  },
  {
   "cell_type": "markdown",
   "id": "3abc9081",
   "metadata": {},
   "source": [
    "With Objectiv you can do all your analysis and Machine Learning directly on the raw data in your SQL database.\n",
    "This example shows in the simplest way possible how you can use Objectiv to create a basic feature set and use\n",
    "sklearn to do machine learning on this data set. We also have an example that goes deeper into\n",
    "feature engineering [here](https://objectiv.io/docs/modeling/example-notebooks/feature-engineering/)."
   ]
  },
  {
   "cell_type": "markdown",
   "id": "ea05523b-5044-497f-a8dc-8053b06896ec",
   "metadata": {},
   "source": [
    "## Getting started\n",
    "If you are running this example on your own collected data, [see the instructions here](https://objectiv.io/docs/modeling/get-started-in-your-notebook/) on how to setup the database connection and get started in your favorite notebook tool."
   ]
  },
  {
   "cell_type": "markdown",
   "id": "096321a3",
   "metadata": {},
   "source": [
    "### Import the required packages for this notebook\n",
    "The open model hub package can be installed with `pip install objectiv-modelhub` (this installs Bach as well).  \n",
    "If you are running this notebook from our quickstart, the model hub and Bach are already installed, so you don't have to install it separately."
   ]
  },
  {
   "cell_type": "code",
   "execution_count": null,
   "id": "e97ff289",
   "metadata": {},
   "outputs": [],
   "source": [
    "from modelhub import ModelHub\n",
    "from sklearn import cluster"
   ]
  },
  {
   "cell_type": "markdown",
   "id": "1f896993",
   "metadata": {},
   "source": [
    "At first we have to instantiate the Objectiv DataFrame object and the model hub."
   ]
  },
  {
   "cell_type": "code",
   "execution_count": null,
   "id": "6760a40b-13a7-4f65-a798-8ca703220827",
   "metadata": {},
   "outputs": [],
   "source": [
    "# instantiate the model hub\n",
    "modelhub = ModelHub(time_aggregation='%Y-%m-%d')"
   ]
  },
  {
   "cell_type": "code",
   "execution_count": null,
   "id": "d582b77f",
   "metadata": {},
   "outputs": [],
   "source": [
    "# get the Bach DataFrame with Objectiv data\n",
    "df = modelhub.get_objectiv_dataframe(start_date='2022-02-02')"
   ]
  },
  {
   "cell_type": "markdown",
   "id": "20c780fa",
   "metadata": {},
   "source": [
    "We create a data set of per user all the root locations that the user clicked on. For the ins and outs on feature engineering see our feature [engineering example](https://objectiv.io/docs/modeling/example-notebooks/feature-engineering/)."
   ]
  },
  {
   "cell_type": "code",
   "execution_count": null,
   "id": "3b6aefac",
   "metadata": {},
   "outputs": [],
   "source": [
    "df['root'] = df.location_stack.ls.get_from_context_with_type_series(type='RootLocationContext', key='id')\n",
    "\n",
    "# root series is later unstacked and its values might contain dashes\n",
    "# which are not allowed in BigQuery column names, lets replace them\n",
    "df['root'] = df['root'].str.replace('-', '_')"
   ]
  },
  {
   "cell_type": "code",
   "execution_count": null,
   "id": "83127b2b",
   "metadata": {},
   "outputs": [],
   "source": [
    "features = df[(df.event_type=='PressEvent')].groupby('user_id').root.value_counts()"
   ]
  },
  {
   "cell_type": "code",
   "execution_count": null,
   "id": "f1cab428",
   "metadata": {},
   "outputs": [],
   "source": [
    "features.head()"
   ]
  },
  {
   "cell_type": "code",
   "execution_count": null,
   "id": "4225e176",
   "metadata": {},
   "outputs": [],
   "source": [
    "features_unstacked = features.unstack(fill_value=0)\n",
    "# sample or not\n",
    "kmeans_frame = features_unstacked\n",
    "# for BigQuery the table name should be 'YOUR_PROJECT.YOUR_WRITABLE_DATASET.YOUR_TABLE_NAME'\n",
    "kmeans_frame = features_unstacked.get_sample(table_name='kmeans_test', sample_percentage=50, overwrite=True)"
   ]
  },
  {
   "cell_type": "markdown",
   "id": "2708c73a",
   "metadata": {},
   "source": [
    "Now we have a basic feature set that is small enough to fit in memory. This can be used with sklearn, as we\n",
    "demonstrate in this example."
   ]
  },
  {
   "cell_type": "code",
   "execution_count": null,
   "id": "1d14b11d",
   "metadata": {},
   "outputs": [],
   "source": [
    "# export to pandas now\n",
    "pdf = kmeans_frame.to_pandas()"
   ]
  },
  {
   "cell_type": "code",
   "execution_count": null,
   "id": "123e667a",
   "metadata": {},
   "outputs": [],
   "source": [
    "pdf"
   ]
  },
  {
   "cell_type": "code",
   "execution_count": null,
   "id": "a52fac18",
   "metadata": {},
   "outputs": [],
   "source": [
    "# do basic kmeans\n",
    "est = cluster.KMeans(n_clusters=3)\n",
    "est.fit(pdf)\n",
    "pdf['cluster'] = est.labels_"
   ]
  },
  {
   "cell_type": "markdown",
   "id": "c18daa71",
   "metadata": {},
   "source": [
    "Now you can use the created clusters on your entire data set again if you add it back to your DataFrame.\n",
    "This is simple, as Bach and pandas are cooperating nicely. Your original Objectiv data now has a 'cluster'\n",
    "column."
   ]
  },
  {
   "cell_type": "code",
   "execution_count": null,
   "id": "62ff0073",
   "metadata": {},
   "outputs": [],
   "source": [
    "kmeans_frame['cluster'] = pdf['cluster']"
   ]
  },
  {
   "cell_type": "code",
   "execution_count": null,
   "id": "77ea99b1",
   "metadata": {},
   "outputs": [],
   "source": [
    "kmeans_frame.sort_values('cluster').head()"
   ]
  },
  {
   "cell_type": "code",
   "execution_count": null,
   "id": "4f78616a",
   "metadata": {},
   "outputs": [],
   "source": [
    "df_with_cluster = df.merge(kmeans_frame[['cluster']], on='user_id')"
   ]
  },
  {
   "cell_type": "code",
   "execution_count": null,
   "id": "b744a0b8",
   "metadata": {},
   "outputs": [],
   "source": [
    "df_with_cluster.head()"
   ]
  },
  {
   "cell_type": "markdown",
   "id": "6920e6b4",
   "metadata": {},
   "source": [
    "You can use this column, just as any other. For example you can now use your created clusters to group models\n",
    "from the model hub by:"
   ]
  },
  {
   "cell_type": "code",
   "execution_count": null,
   "id": "5206e4f1",
   "metadata": {},
   "outputs": [],
   "source": [
    "modelhub.aggregate.session_duration(df_with_cluster, groupby='cluster').head()"
   ]
  }
 ],
 "metadata": {
  "kernelspec": {
   "display_name": "Python 3 (ipykernel)",
   "language": "python",
   "name": "python3"
  },
  "language_info": {
   "codemirror_mode": {
    "name": "ipython",
    "version": 3
   },
   "file_extension": ".py",
   "mimetype": "text/x-python",
   "name": "python",
   "nbconvert_exporter": "python",
   "pygments_lexer": "ipython3",
   "version": "3.9.10"
  }
 },
 "nbformat": 4,
 "nbformat_minor": 5
}
