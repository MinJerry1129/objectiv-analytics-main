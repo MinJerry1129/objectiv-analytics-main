{
 "cells": [
  {
   "cell_type": "markdown",
   "id": "afb5dddf",
   "metadata": {},
   "source": [
    "This is one of the Objectiv [example notebooks](https://objectiv.io/docs/modeling/example-notebooks/). These notebooks can run [on your own data](https://objectiv.io/docs/modeling/get-started-in-your-notebook/), or you can instead run the [Demo](https://objectiv.io/docs/home/try-the-demo/) to quickly try them out."
   ]
  },
  {
   "cell_type": "markdown",
   "id": "990f0ae2-48cd-4220-8960-844af284fcce",
   "metadata": {},
   "source": [
    "# Product analytics"
   ]
  },
  {
   "cell_type": "markdown",
   "id": "fc19e049-754f-4c0e-8a5a-0ff89bdb7724",
   "metadata": {},
   "source": [
    "This example notebook shows how you can easily do basic product analytics on your data. [See here how to get started in your notebook](https://objectiv.io/docs/modeling/get-started-in-your-notebook/)."
   ]
  },
  {
   "cell_type": "markdown",
   "id": "277e303e",
   "metadata": {},
   "source": [
    "## Get started\n",
    "We first have to instantiate the model hub and an Objectiv DataFrame object."
   ]
  },
  {
   "cell_type": "code",
   "execution_count": null,
   "id": "95a751dc",
   "metadata": {},
   "outputs": [],
   "source": [
    "# set the timeframe of the analysis\n",
    "start_date = '2022-03-01'\n",
    "end_date = None"
   ]
  },
  {
   "cell_type": "code",
   "execution_count": null,
   "id": "4bd369f6",
   "metadata": {},
   "outputs": [],
   "source": [
    "from modelhub import ModelHub, display_sql_as_markdown\n",
    "from datetime import datetime\n",
    "\n",
    "# instantiate the model hub and set the default time aggregation to daily\n",
    "# and set the global contexts that will be used in this example\n",
    "modelhub = ModelHub(time_aggregation='%Y-%m-%d', global_contexts=['application'])\n",
    "# get a Bach DataFrame with Objectiv data within a defined timeframe\n",
    "df = modelhub.get_objectiv_dataframe(start_date=start_date, end_date=end_date)"
   ]
  },
  {
   "cell_type": "markdown",
   "id": "007d8344",
   "metadata": {},
   "source": [
    "The `location_stack` column, and the columns taken from the global contexts, contain most of the event-specific data. These columns are JSON typed, and we can extract data from it using the keys of the JSON objects with [`SeriesLocationStack`](https://objectiv.io/docs/modeling/open-model-hub/api-reference/SeriesLocationStack/SeriesLocationStack/) methods, or the `context` accessor for global context columns. See the [open taxonomy example](open-taxonomy-how-to.ipynb#Location-stack-&-global-contexts) for how to use the `location_stack` and global contexts. "
   ]
  },
  {
   "cell_type": "code",
   "execution_count": null,
   "id": "4e130b67",
   "metadata": {},
   "outputs": [],
   "source": [
    "df['application_id'] = df.application.context.id\n",
    "df['feature_nice_name'] = df.location_stack.ls.nice_name\n",
    "df['root_location'] = df.location_stack.ls.get_from_context_with_type_series(type='RootLocationContext', key='id')"
   ]
  },
  {
   "cell_type": "markdown",
   "id": "24f83767",
   "metadata": {},
   "source": [
    "### Reference\n",
    "* [modelhub.ModelHub](https://objectiv.io/docs/modeling/open-model-hub/api-reference/ModelHub/ModelHub/)\n",
    "* [modelhub.ModelHub.get_objectiv_dataframe](https://objectiv.io/docs/modeling/open-model-hub/api-reference/ModelHub/get_objectiv_dataframe/)\n",
    "* [using global context data](open-taxonomy-how-to.ipynb#Location-stack-&-global-contexts)\n",
    "* [modelhub.SeriesLocationStack.ls](https://objectiv.io/docs/modeling/open-model-hub/api-reference/SeriesLocationStack/ls/)"
   ]
  },
  {
   "cell_type": "markdown",
   "id": "f479ee21",
   "metadata": {},
   "source": [
    "### Have a look at the data"
   ]
  },
  {
   "cell_type": "code",
   "execution_count": null,
   "id": "3c4ad65e",
   "metadata": {},
   "outputs": [],
   "source": [
    "# sort by users sessions\n",
    "df.sort_values(['session_id', 'session_hit_number'], ascending=False).head()"
   ]
  },
  {
   "cell_type": "code",
   "execution_count": null,
   "id": "38aa346a",
   "metadata": {},
   "outputs": [],
   "source": [
    "# explore the data with describe\n",
    "df.describe(include='all').head()"
   ]
  },
  {
   "cell_type": "markdown",
   "id": "1c43a225",
   "metadata": {},
   "source": [
    "### Reference\n",
    "* [bach.DataFrame.sort_values](https://objectiv.io/docs/modeling/bach/api-reference/DataFrame/sort_values/)\n",
    "* [bach.DataFrame.describe](https://objectiv.io/docs/modeling/bach/api-reference/DataFrame/describe/)\n",
    "* [bach.DataFrame.head](https://objectiv.io/docs/modeling/bach/api-reference/DataFrame/head/)"
   ]
  },
  {
   "cell_type": "markdown",
   "id": "a1ced327",
   "metadata": {},
   "source": [
    "Next we'll go though a selection of product analytics metrics. We can use models from the [open model hub](https://objectiv.io/docs/modeling/open-model-hub/), or use [modeling library Bach](https://objectiv.io/docs/modeling/bach/) to run data analyses directly on the data store, with Pandas-like syntax.\n",
    "\n",
    "For each example, [`head()`](https://objectiv.io/docs/modeling/bach/api-reference/DataFrame/head/), [`to_pandas()`](https://objectiv.io/docs/modeling/bach/api-reference/DataFrame/to_pandas/) or [`to_numpy()`](https://objectiv.io/docs/modeling/bach/api-reference/DataFrame/to_numpy/) can be used to execute the generated SQL and get the results in your notebook."
   ]
  },
  {
   "cell_type": "markdown",
   "id": "03bfa810",
   "metadata": {},
   "source": [
    "## Unique users\n",
    "Let's see the number of unique users over time, with the [unique_users](https://objectiv.io/docs/modeling/open-model-hub/models/aggregation/unique_users/) model. By default it will use the `time_aggregation` set when the model hub was instantiated, in this case '%Y-%m-%d', so daily. For `monthly_users`, the default time_aggregation is overridden by using a different `groupby` argument."
   ]
  },
  {
   "cell_type": "code",
   "execution_count": null,
   "id": "08ad4e39",
   "metadata": {},
   "outputs": [],
   "source": [
    "# unique users, monthly\n",
    "monthly_users = modelhub.aggregate.unique_users(df, groupby=modelhub.time_agg(df, '%Y-%m'))\n",
    "monthly_users.sort_index(ascending=False).head()"
   ]
  },
  {
   "cell_type": "code",
   "execution_count": null,
   "id": "172f431c",
   "metadata": {},
   "outputs": [],
   "source": [
    "# unique users, daily\n",
    "daily_users = modelhub.aggregate.unique_users(df)\n",
    "daily_users.sort_index(ascending=False).head(10)"
   ]
  },
  {
   "cell_type": "markdown",
   "id": "9b9596f0",
   "metadata": {},
   "source": [
    "To see the number of users per main product section, group by its [root_location](https://objectiv.io/docs/taxonomy/reference/location-contexts/RootLocationContext)."
   ]
  },
  {
   "cell_type": "code",
   "execution_count": null,
   "id": "fec344a2",
   "metadata": {},
   "outputs": [],
   "source": [
    "# unique users, per main product section\n",
    "users_root = modelhub.aggregate.unique_users(df, groupby=['application_id', 'root_location'])\n",
    "users_root.sort_index(ascending=False).head(10)"
   ]
  },
  {
   "cell_type": "markdown",
   "id": "0da6fb18",
   "metadata": {},
   "source": [
    "### Reference\n",
    "* [modelhub.Aggregate.unique_users](https://objectiv.io/docs/modeling/open-model-hub/models/aggregation/unique_users/)\n",
    "* [bach.DataFrame.sort_index](https://objectiv.io/docs/modeling/bach/api-reference/DataFrame/sort_index/)\n",
    "* [bach.DataFrame.head](https://objectiv.io/docs/modeling/bach/api-reference/DataFrame/head/)"
   ]
  },
  {
   "cell_type": "markdown",
   "id": "a95c3999",
   "metadata": {},
   "source": [
    "## Retention"
   ]
  },
  {
   "cell_type": "markdown",
   "id": "c0c002e4",
   "metadata": {},
   "source": [
    "To measure how well we are doing at keeping users with us after their first interaction, we can use a retention matrix.\n",
    "\n",
    "To calculate the retention matrix, we need to distribute the users into mutually exclusive cohorts based on the `time_period` (can be `daily`, `weekly`, `monthly`, or `yearly`) they first interacted.\n",
    "\n",
    "In the retention matrix:\n",
    "- each row represents a cohort;\n",
    "- each column represents a time range, where time is calculated with respect to the cohort start time;\n",
    "- the values of the matrix elements are the number or percentage (depending on `percentage` parameter) of users in a given cohort that returned again in a given time range.\n",
    "\n",
    "The users' activity starts to be counted from the `start_date` specified when the modelhub was instantiated."
   ]
  },
  {
   "cell_type": "code",
   "execution_count": null,
   "id": "767c5982",
   "metadata": {},
   "outputs": [],
   "source": [
    "# retention matrix, monthly, with percentages\n",
    "retention_matrix = modelhub.aggregate.retention_matrix(df, time_period='monthly', percentage=True, display=True)\n",
    "retention_matrix.head()"
   ]
  },
  {
   "cell_type": "markdown",
   "id": "6d8fe546",
   "metadata": {},
   "source": [
    "### Drilling down retention cohorts"
   ]
  },
  {
   "cell_type": "markdown",
   "id": "c33d9b44",
   "metadata": {},
   "source": [
    "In the retention matrix above, we can see there's a drop in retained users in the second cohort the next month. We can directly zoom into the different cohorts and see the difference."
   ]
  },
  {
   "cell_type": "code",
   "execution_count": null,
   "id": "52ec55a5",
   "metadata": {},
   "outputs": [],
   "source": [
    "# calculate the first cohort\n",
    "cohorts = df[['user_id', 'moment']].groupby('user_id')['moment'].min().reset_index()\n",
    "cohorts = cohorts.rename(columns={'moment': 'first_cohort'})\n",
    "\n",
    "# add first cohort of the users to our DataFrame\n",
    "df_with_cohorts = df.merge(cohorts, on='user_id')"
   ]
  },
  {
   "cell_type": "code",
   "execution_count": null,
   "id": "419da16e",
   "metadata": {},
   "outputs": [],
   "source": [
    "# filter data where users belong to the #0 cohort\n",
    "cohort0_filter = (df_with_cohorts['first_cohort'] > datetime(2022, 3, 1)) & (df_with_cohorts['first_cohort'] < datetime(2022, 4, 1))\n",
    "df_with_cohorts[cohort0_filter]['event_type'].value_counts().head()"
   ]
  },
  {
   "cell_type": "code",
   "execution_count": null,
   "id": "20c15a7d",
   "metadata": {},
   "outputs": [],
   "source": [
    "# filter data where users belong to the #1 cohort (the problematic one)\n",
    "cohort1_filter = (df_with_cohorts['first_cohort'] > datetime(2022, 4, 1)) & (df_with_cohorts['first_cohort'] < datetime(2022, 5, 1))\n",
    "df_with_cohorts[cohort1_filter]['event_type'].value_counts().head()"
   ]
  },
  {
   "cell_type": "markdown",
   "id": "cccd323e",
   "metadata": {},
   "source": [
    "One interesting thing to note here, for example, is that there are relatively more [`VisibleEvents`](https://objectiv.io/docs/taxonomy/reference/events/VisibleEvent) in the first cohort than in the second 'problematic' one.\n",
    "\n",
    "This is  just a simple example to demonstrate the differences you can find between cohorts. You could run other models like [top product features](https://objectiv.io/docs/modeling/open-model-hub/models/aggregation/top_product_features/), or develop more in-depth analyses."
   ]
  },
  {
   "cell_type": "markdown",
   "id": "3aa7f0a8",
   "metadata": {},
   "source": [
    "### Reference\n",
    "* [modelhub.Aggregate.retention_matrix](https://objectiv.io/docs/modeling/open-model-hub/models/aggregation/retention_matrix/)\n",
    "* [bach.DataFrame.groupby](https://objectiv.io/docs/modeling/bach/api-reference/DataFrame/groupby/)\n",
    "* [bach.DataFrame.min](https://objectiv.io/docs/modeling/bach/api-reference/DataFrame/min/)\n",
    "* [bach.DataFrame.reset_index](https://objectiv.io/docs/modeling/bach/api-reference/DataFrame/reset_index/)\n",
    "* [bach.DataFrame.rename](https://objectiv.io/docs/modeling/bach/api-reference/DataFrame/rename/)\n",
    "* [bach.DataFrame.merge](https://objectiv.io/docs/modeling/bach/api-reference/DataFrame/merge/)\n",
    "* [bach.DataFrame.value_counts](https://objectiv.io/docs/modeling/bach/api-reference/DataFrame/value_counts/)\n",
    "* [bach.DataFrame.head](https://objectiv.io/docs/modeling/bach/api-reference/DataFrame/head/)"
   ]
  },
  {
   "cell_type": "markdown",
   "id": "1a6de3da",
   "metadata": {},
   "source": [
    "## Time spent (aka duration)\n",
    "Here we calculate the average duration of a user's session, using the [session_duration model](https://objectiv.io/docs/modeling/open-model-hub/models/aggregation/session_duration/)."
   ]
  },
  {
   "cell_type": "code",
   "execution_count": null,
   "id": "5ad07abd-e62e-41d3-9033-cdacb906551f",
   "metadata": {},
   "outputs": [],
   "source": [
    "# duration, monthly average\n",
    "duration_monthly = modelhub.aggregate.session_duration(df, groupby=modelhub.time_agg(df, '%Y-%m'))\n",
    "duration_monthly.sort_index(ascending=False).head()"
   ]
  },
  {
   "cell_type": "code",
   "execution_count": null,
   "id": "9fb041b2",
   "metadata": {},
   "outputs": [],
   "source": [
    "# duration, daily average\n",
    "duration_daily = modelhub.aggregate.session_duration(df)\n",
    "duration_daily.sort_index(ascending=False).head()"
   ]
  },
  {
   "cell_type": "markdown",
   "id": "fbaa88d1",
   "metadata": {},
   "source": [
    " To see the average time spent by users in each main product section (per month in this case), group by its [root_location](https://objectiv.io/docs/taxonomy/reference/location-contexts/RootLocationContext)."
   ]
  },
  {
   "cell_type": "code",
   "execution_count": null,
   "id": "4f929f0a",
   "metadata": {},
   "outputs": [],
   "source": [
    "# duration, monthly average per root_location\n",
    "duration_root_month = modelhub.aggregate.session_duration(df, groupby=['application_id', 'root_location', modelhub.time_agg(df, '%Y-%m')]).sort_index()\n",
    "duration_root_month.head(10)"
   ]
  },
  {
   "cell_type": "code",
   "execution_count": null,
   "id": "8e2c4158",
   "metadata": {},
   "outputs": [],
   "source": [
    "# how is the overall time spent distributed?\n",
    "session_duration = modelhub.aggregate.session_duration(df, groupby='session_id', exclude_bounces=False)\n",
    "# materialization is needed because the expression of the created Series contains aggregated data, and it is not allowed to aggregate that.\n",
    "session_duration.materialize().quantile(q=[0.25, 0.50, 0.75]).head()"
   ]
  },
  {
   "cell_type": "markdown",
   "id": "62378e08",
   "metadata": {},
   "source": [
    "### Reference\n",
    "* [modelhub.Aggregate.session_duration](https://objectiv.io/docs/modeling/open-model-hub/models/aggregation/session_duration/)\n",
    "* [bach.DataFrame.sort_index](https://objectiv.io/docs/modeling/bach/api-reference/DataFrame/sort_index/)\n",
    "* [bach.DataFrame.head](https://objectiv.io/docs/modeling/bach/api-reference/DataFrame/head/)\n",
    "* [bach.DataFrame.groupby](https://objectiv.io/docs/modeling/bach/api-reference/DataFrame/groupby/)\n",
    "* [bach.DataFrame.materialize](https://objectiv.io/docs/modeling/bach/api-reference/DataFrame/materialize/)"
   ]
  },
  {
   "cell_type": "markdown",
   "id": "c0e6a29a",
   "metadata": {},
   "source": [
    "## Top used product features"
   ]
  },
  {
   "cell_type": "markdown",
   "id": "58e63222",
   "metadata": {},
   "source": [
    "To see which features are most used, we can use the [top_product_features model](https://objectiv.io/docs/modeling/open-model-hub/models/aggregation/top_product_features/). "
   ]
  },
  {
   "cell_type": "code",
   "execution_count": null,
   "id": "a19d8210",
   "metadata": {},
   "outputs": [],
   "source": [
    "# see top used product features - by default we select only user actions (InteractiveEvents)\n",
    "top_product_features = modelhub.aggregate.top_product_features(df)\n",
    "top_product_features.head()"
   ]
  },
  {
   "cell_type": "markdown",
   "id": "dcf82009",
   "metadata": {},
   "source": [
    "### Top used features per product area\n",
    "We also want to look at which features were used most in our top product areas."
   ]
  },
  {
   "cell_type": "code",
   "execution_count": null,
   "id": "a757be5a",
   "metadata": {},
   "outputs": [],
   "source": [
    "# select only user actions, so stack_event_types must contain 'InteractiveEvent'\n",
    "interactive_events = df[df.stack_event_types.json.array_contains('InteractiveEvent')]\n",
    "# from these interactions, get the number of unique users per application_id, root_location, feature, and event type.\n",
    "top_interactions = modelhub.agg.unique_users(interactive_events, groupby=['application_id','root_location','feature_nice_name', 'event_type'])\n",
    "top_interactions = top_interactions.reset_index()"
   ]
  },
  {
   "cell_type": "code",
   "execution_count": null,
   "id": "3ba9b3cf",
   "metadata": {},
   "outputs": [],
   "source": [
    "# let's look at the homepage on our website\n",
    "home_users = top_interactions[(top_interactions.application_id == 'objectiv-website') &\n",
    "                              (top_interactions.root_location == 'home')]\n",
    "home_users.sort_values('unique_users', ascending=False).head()"
   ]
  },
  {
   "cell_type": "markdown",
   "id": "e9e5de5a",
   "metadata": {},
   "source": [
    "From the same `top_interactions` object, we can see the top used features on our documentation, which is a separate application."
   ]
  },
  {
   "cell_type": "code",
   "execution_count": null,
   "id": "3f8c4ae0",
   "metadata": {},
   "outputs": [],
   "source": [
    "# see the top used features on our documentation application\n",
    "docs_users = top_interactions[top_interactions.application_id == 'objectiv-docs']\n",
    "docs_users.sort_values('unique_users', ascending=False).head()"
   ]
  },
  {
   "cell_type": "markdown",
   "id": "e046bf7a",
   "metadata": {},
   "source": [
    "### Reference\n",
    "* [modelhub.Aggregate.top_product_features](https://objectiv.io/docs/modeling/open-model-hub/models/aggregation/top_product_features/)\n",
    "* [bach.SeriesJson.json.array_contains](https://objectiv.io/docs/modeling/bach/api-reference/Series/Json/json/#array_contains)\n",
    "* [modelhub.Aggregate.unique_users](https://objectiv.io/docs/modeling/open-model-hub/models/aggregation/unique_users/)\n",
    "* [bach.DataFrame.reset_index](https://objectiv.io/docs/modeling/bach/api-reference/DataFrame/reset_index/)\n",
    "* [bach.DataFrame.sort_values](https://objectiv.io/docs/modeling/bach/api-reference/DataFrame/sort_values/)"
   ]
  },
  {
   "cell_type": "markdown",
   "id": "3bda262d",
   "metadata": {},
   "source": [
    "## Conversions\n",
    "Users have impact on product goals, e.g. conversion to a signup. Here we look at their conversion to such goals. First you define a conversion event, which in this example we've defined as clicking a link to our GitHub repo."
   ]
  },
  {
   "cell_type": "code",
   "execution_count": null,
   "id": "897180ac",
   "metadata": {
    "scrolled": true
   },
   "outputs": [],
   "source": [
    "# create a column that extracts all location stacks that lead to our GitHub repo\n",
    "df['github_press'] = df.location_stack.json[{'id': 'objectiv-on-github', '_type': 'LinkContext'}:]\n",
    "df.loc[df.location_stack.json[{'id': 'github', '_type': 'LinkContext'}:]!=[],'github_press'] = df.location_stack\n",
    "# define which events to use as conversion events\n",
    "modelhub.add_conversion_event(location_stack=df.github_press,\n",
    "                              event_type='PressEvent',\n",
    "                              name='github_press')"
   ]
  },
  {
   "cell_type": "markdown",
   "id": "b8fd7827",
   "metadata": {},
   "source": [
    "This conversion event can then be used by several models using the defined name ('github_press'). First we calculate the number of unique converted users."
   ]
  },
  {
   "cell_type": "code",
   "execution_count": null,
   "id": "f4f6f7e7",
   "metadata": {},
   "outputs": [],
   "source": [
    "# number of conversions, daily\n",
    "df['is_conversion_event'] = modelhub.map.is_conversion_event(df, 'github_press')\n",
    "conversions = modelhub.aggregate.unique_users(df[df.is_conversion_event])\n",
    "conversions.to_frame().sort_index(ascending=False).head(10)"
   ]
  },
  {
   "cell_type": "markdown",
   "id": "6ee9995c",
   "metadata": {},
   "source": [
    "### Conversion rate\n",
    "To calculate the daily conversion rate, we use the earlier created `daily_users` DataFrame."
   ]
  },
  {
   "cell_type": "code",
   "execution_count": null,
   "id": "f4fa4649-1300-4647-bd67-616e95bc96d6",
   "metadata": {},
   "outputs": [],
   "source": [
    "# conversion rate, daily\n",
    "conversion_rate = conversions / daily_users\n",
    "conversion_rate.sort_index(ascending=False).head(10)"
   ]
  },
  {
   "cell_type": "markdown",
   "id": "eeb9e9d4",
   "metadata": {},
   "source": [
    "### Features  before conversion\n",
    "We can calculate what users did _before_ converting."
   ]
  },
  {
   "cell_type": "code",
   "execution_count": null,
   "id": "b6762c39",
   "metadata": {},
   "outputs": [],
   "source": [
    "# features used before users converted\n",
    "top_features_before_conversion = modelhub.agg.top_product_features_before_conversion(df, name='github_press')\n",
    "top_features_before_conversion.head()"
   ]
  },
  {
   "cell_type": "markdown",
   "id": "cbc4e9a4",
   "metadata": {},
   "source": [
    "### Exact features that converted\n",
    "Let's understand which product features actually triggered the conversion."
   ]
  },
  {
   "cell_type": "code",
   "execution_count": null,
   "id": "88a0e85b",
   "metadata": {},
   "outputs": [],
   "source": [
    "# features that triggered the conversion\n",
    "conversion_locations = modelhub.agg.unique_users(df[df.is_conversion_event], \n",
    "                                                 groupby=['application_id', 'feature_nice_name', 'event_type'])\n",
    "conversion_locations.sort_values(ascending=False).to_frame().head()"
   ]
  },
  {
   "cell_type": "markdown",
   "id": "fb84157f",
   "metadata": {},
   "source": [
    "### Time spent before conversion\n",
    "Finally, let's see how much time converted users spent before they converted."
   ]
  },
  {
   "cell_type": "code",
   "execution_count": null,
   "id": "191ead42",
   "metadata": {},
   "outputs": [],
   "source": [
    "# label sessions with a conversion\n",
    "df['converted_users'] = modelhub.map.conversions_counter(df, name='github_press') >= 1\n",
    "\n",
    "# label hits where at that point in time, there are 0 conversions in the session\n",
    "df['zero_conversions_at_moment'] = modelhub.map.conversions_in_time(df, 'github_press') == 0\n",
    "\n",
    "# filter on above created labels\n",
    "converted_users = df[(df.converted_users & df.zero_conversions_at_moment)]\n",
    "\n",
    "# how much time do users spend before they convert?\n",
    "modelhub.aggregate.session_duration(converted_users, groupby=None).to_frame().head()"
   ]
  },
  {
   "cell_type": "markdown",
   "id": "731fbc28",
   "metadata": {},
   "source": [
    "### Reference\n",
    "* [bach.SeriesJson.json](https://objectiv.io/docs/modeling/bach/api-reference/Series/Json/json/)\n",
    "* [modelhub.ModelHub.add_conversion_event](https://objectiv.io/docs/modeling/open-model-hub/api-reference/ModelHub/add_conversion_event/)\n",
    "* [modelhub.Map.is_conversion_event](https://objectiv.io/docs/modeling/open-model-hub/models/helper-functions/is_conversion_event/)\n",
    "* [modelhub.Aggregate.unique_users](https://objectiv.io/docs/modeling/open-model-hub/models/aggregation/unique_users/)\n",
    "* [bach.Series.to_frame](https://objectiv.io/docs/modeling/bach/api-reference/Series/to_frame/)\n",
    "* [bach.DataFrame.sort_index](https://objectiv.io/docs/modeling/bach/api-reference/DataFrame/sort_index/)\n",
    "* [bach.DataFrame.head](https://objectiv.io/docs/modeling/bach/api-reference/DataFrame/head/)\n",
    "* [modelhub.Aggregate.top_product_features_before_conversion](https://objectiv.io/docs/modeling/open-model-hub/models/aggregation/top_product_features_before_conversion/)\n",
    "* [modelhub.Map.conversions_counter](https://objectiv.io/docs/modeling/open-model-hub/models/helper-functions/conversions_counter/)\n",
    "* [modelhub.Map.conversions_in_time](https://objectiv.io/docs/modeling/open-model-hub/models/helper-functions/conversions_in_time/)\n",
    "* [modelhub.Aggregate.session_duration](https://objectiv.io/docs/modeling/open-model-hub/models/aggregation/session_duration/)"
   ]
  },
  {
   "cell_type": "markdown",
   "id": "a0bf8279",
   "metadata": {},
   "source": [
    "## Funnel Discovery\n",
    "To analyze the paths that users take that impact your product goals, have a look at the [Funnel Discovery notebook](./funnel-discovery.ipynb)."
   ]
  },
  {
   "cell_type": "markdown",
   "id": "31b3686c",
   "metadata": {},
   "source": [
    "## Marketing analysis\n",
    "To analyze the above metrics and more for users coming from marketing efforts, have a look at the [Marketing Analytics notebook](./marketing-analytics.ipynb)."
   ]
  },
  {
   "cell_type": "markdown",
   "id": "c4b5b4d2-d72b-4f10-9702-afe22015b74f",
   "metadata": {},
   "source": [
    "## Get the SQL for any analysis\n",
    "The SQL for any analysis can be exported with one command, so you can use models in production directly to simplify data debugging & delivery to BI tools like Metabase, dbt, etc. See how you can [quickly create BI dashboards with this](https://objectiv.io/docs/home/try-the-demo#creating-bi-dashboards)."
   ]
  },
  {
   "cell_type": "code",
   "execution_count": null,
   "id": "3503632c-bd17-462f-a7e2-9b27a390c673",
   "metadata": {},
   "outputs": [],
   "source": [
    "# show SQL for analysis; this is just one example, and works for any Objectiv model/analysis\n",
    "display_sql_as_markdown(conversions)"
   ]
  }
 ],
 "metadata": {
  "kernelspec": {
   "display_name": "Python 3 (ipykernel)",
   "language": "python",
   "name": "python3"
  },
  "language_info": {
   "codemirror_mode": {
    "name": "ipython",
    "version": 3
   },
   "file_extension": ".py",
   "mimetype": "text/x-python",
   "name": "python",
   "nbconvert_exporter": "python",
   "pygments_lexer": "ipython3",
   "version": "3.8.10"
  }
 },
 "nbformat": 4,
 "nbformat_minor": 5
}
