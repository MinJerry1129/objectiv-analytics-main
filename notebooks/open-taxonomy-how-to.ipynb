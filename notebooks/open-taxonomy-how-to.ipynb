{
 "cells": [
  {
   "cell_type": "markdown",
   "id": "0dac359c",
   "metadata": {},
   "source": [
    "This is one of the Objectiv [example notebooks](https://objectiv.io/docs/modeling/example-notebooks/). These notebooks can run [on your own data](https://objectiv.io/docs/modeling/get-started-in-your-notebook/), or you can instead run the [Demo](https://objectiv.io/docs/home/try-the-demo/) to quickly try them out."
   ]
  },
  {
   "cell_type": "markdown",
   "id": "ea65ba18",
   "metadata": {},
   "source": [
    "This notebook demonstrates what you can do with the [Bach modeling library](https://objectiv.io/docs/modeling/bach/) and a dataset that is validated against the [open analytics taxonomy](https://objectiv.io/docs/taxonomy/). The Objectiv [Bach API](https://objectiv.io/docs/modeling/bach/api-reference/) is strongly pandas-like, to provide a familiar interface to handle large amounts of data in a python environment, while supporting multiple data stores. See [an intro into the pandas API here](https://pandas.pydata.org/pandas-docs/stable/user_guide/10min.html) if you're not familiar with it yet.\n",
    "\n",
    "This example uses real data collected with Objectiv's [Tracking SDK](https://objectiv.io/docs/tracking/) on objectiv.io, stored in an SQL database. "
   ]
  },
  {
   "cell_type": "markdown",
   "id": "987d694b-a709-4638-b1c8-da3cd9219efd",
   "metadata": {},
   "source": [
    "## Getting started\n",
    "First we have to install the open model hub and instantiate the Objectiv DataFrame object; [see here how to get started in your notebook](https://objectiv.io/docs/modeling/get-started-in-your-notebook/). "
   ]
  },
  {
   "cell_type": "markdown",
   "id": "d1d35b5b",
   "metadata": {},
   "source": [
    "The open model hub is a toolkit with functions and models that can run directly on a full dataset collected with Objectiv’s Tracker SDKs. The [`get_objectiv_dataframe()`](https://objectiv.io/docs/modeling/open-model-hub/api-reference/ModelHub/get_objectiv_dataframe/) operation creates a Bach DataFrame that has all columns and data types set correctly, and as such can always be used with models from the open model hub. "
   ]
  },
  {
   "cell_type": "markdown",
   "id": "dbe1dc99",
   "metadata": {},
   "source": [
    "By instantiating the model hub with a `global_contexts` parameter, all global contexts that are needed in the following analyses are added to the DataFrame. In this example, we select 'application' and 'marketing' contexts. [Later in this notebook](#Global-contexts) we'll give more details on what data is available in the global contexts and how to access this data for analyses."
   ]
  },
  {
   "cell_type": "code",
   "execution_count": null,
   "id": "e97ff289",
   "metadata": {},
   "outputs": [],
   "source": [
    "# set the timeframe of the analysis\n",
    "start_date = '2022-03-01'\n",
    "end_date = None"
   ]
  },
  {
   "cell_type": "code",
   "execution_count": null,
   "id": "c48b63a5-6071-41f8-bb63-dc5e149ebc6f",
   "metadata": {},
   "outputs": [],
   "source": [
    "from modelhub import ModelHub\n",
    "from bach import display_sql_as_markdown\n",
    "\n",
    "# instantiate the model hub, set the default time aggregation to daily\n",
    "# and get the global contexts that will be used in this example\n",
    "modelhub = ModelHub(time_aggregation='%Y-%m-%d', global_contexts=['application', 'marketing'])\n",
    "# get an Objectiv DataFrame within a defined timeframe\n",
    "df = modelhub.get_objectiv_dataframe(start_date=start_date, end_date=end_date)"
   ]
  },
  {
   "cell_type": "markdown",
   "id": "2a316d23",
   "metadata": {},
   "source": [
    "The data for this DataFrame is still in the database, and the database is not queried before any of the data is loaded to the python environment. The methods that query the database are: \n",
    "* [`head()`](https://objectiv.io/docs/modeling/bach/api-reference/DataFrame/head/)\n",
    "* [`to_pandas()`](https://objectiv.io/docs/modeling/bach/api-reference/DataFrame/to_pandas/)\n",
    "* [`get_sample()`](https://objectiv.io/docs/modeling/bach/api-reference/DataFrame/get_sample/)\n",
    "* [`to_numpy()`](https://objectiv.io/docs/modeling/bach/api-reference/DataFrame/to_numpy/)\n",
    "* The property accessors [`Series.array`](https://objectiv.io/docs/modeling/bach/api-reference/Series/array/) and [`Series.value`](https://objectiv.io/docs/modeling/bach/api-reference/Series/value/)\n",
    "\n",
    "For demo purposes of this notebook, these methods are called often to show the results of our operations. To limit the number of executed queries on the full dataset, it is recommended to use these methods less often or [to sample the data first](#Sampling)."
   ]
  },
  {
   "cell_type": "markdown",
   "id": "34b73561",
   "metadata": {},
   "source": [
    "### Reference\n",
    "* [modelhub.ModelHub.get_objectiv_dataframe](https://objectiv.io/docs/modeling/open-model-hub/api-reference/ModelHub/get_objectiv_dataframe/)"
   ]
  },
  {
   "cell_type": "markdown",
   "id": "eac0a37f",
   "metadata": {},
   "source": [
    "## The data\n",
    "The DataFrame contains:"
   ]
  },
  {
   "cell_type": "markdown",
   "id": "fe4e73ab",
   "metadata": {},
   "source": [
    "* The index. This is a unique identifier for every hit."
   ]
  },
  {
   "cell_type": "code",
   "execution_count": null,
   "id": "2d187cd0",
   "metadata": {},
   "outputs": [],
   "source": [
    "df.index_dtypes"
   ]
  },
  {
   "cell_type": "markdown",
   "id": "de3272e6",
   "metadata": {},
   "source": [
    "* The event data. These columns contain all information about the event."
   ]
  },
  {
   "cell_type": "code",
   "execution_count": null,
   "id": "4f540a20",
   "metadata": {},
   "outputs": [],
   "source": [
    "df.dtypes"
   ]
  },
  {
   "cell_type": "markdown",
   "id": "154f4898",
   "metadata": {},
   "source": [
    "What’s in these columns:\n",
    "* `day`: the day of the session as a date.\n",
    "* `moment`: the exact moment of the event.\n",
    "* `user_id`: the unique identifier of the user based on the cookie.\n",
    "* `location_stack`: a JSON-like data column that stores information on the exact location where the event is triggered in the product's UI. [See below](#location_stack) for more detailed explanation.\n",
    "* `event_type`: the type of event that is logged.\n",
    "* `stack_event_types`: the parents of the event_type.\n",
    "* `session_id`: a unique incremented integer id for each session. Starts at 1 for the selected data in the DataFrame.\n",
    "* `session_hit_number`: a incremented integer id for each hit in session ordered by moment."
   ]
  },
  {
   "cell_type": "markdown",
   "id": "b5a1618e",
   "metadata": {},
   "source": [
    "Besides these 'standard' columns, the DataFrame contains additional columns that are extracted from the global contexts:\n",
    "* `application`\n",
    "* `marketing`\n",
    "\n",
    "[See more about global contexts here](#Global-contexts)."
   ]
  },
  {
   "cell_type": "markdown",
   "id": "283c8c6f",
   "metadata": {},
   "source": [
    "A preview of the data below, showing the latest PressEvents."
   ]
  },
  {
   "cell_type": "code",
   "execution_count": null,
   "id": "a135e7e0",
   "metadata": {},
   "outputs": [],
   "source": [
    "df[df.event_type == 'PressEvent'].sort_values('moment', ascending=False).head()"
   ]
  },
  {
   "cell_type": "markdown",
   "id": "4e2e506b",
   "metadata": {},
   "source": [
    "### Reference\n",
    "* [bach.DataFrame.index_dtypes](https://objectiv.io/docs/modeling/bach/api-reference/DataFrame/index_dtypes/)\n",
    "* [bach.DataFrame.dtypes](https://objectiv.io/docs/modeling/bach/api-reference/DataFrame/dtypes/)\n",
    "* [bach.DataFrame.sort_values](https://objectiv.io/docs/modeling/bach/api-reference/DataFrame/sort_values/)\n",
    "* [bach.DataFrame.head](https://objectiv.io/docs/modeling/bach/api-reference/DataFrame/head/)"
   ]
  },
  {
   "cell_type": "markdown",
   "id": "c358689e",
   "metadata": {},
   "source": [
    "## The Open Taxonomy\n",
    "Data in a DataFrame created with `get_objectiv_dataframe()` follows the [open analytics taxonomy](https://objectiv.io/docs/taxonomy/core-concepts/):\n",
    "* **event_type** column: describes the type of interactive or non-interactive event.\n",
    "* **location_stack** column: describes where an event exactly happened in the user interface.\n",
    "* **global contexts** data: general information about the state in which an event happened.\n",
    "\n",
    "The following section goes through these concepts one-by-one."
   ]
  },
  {
   "cell_type": "markdown",
   "id": "0a4ca710",
   "metadata": {},
   "source": [
    "### `event_type` column"
   ]
  },
  {
   "cell_type": "markdown",
   "id": "f89749b5",
   "metadata": {},
   "source": [
    "The `event_type` describes what type of event was triggered. The goal of the open taxonomy is to label all interactive and non-interactive events in a standardized way. Together with the `location_stack`, the `event_type` 'defines' what happened with, or on the product."
   ]
  },
  {
   "cell_type": "code",
   "execution_count": null,
   "id": "81de16f2",
   "metadata": {},
   "outputs": [],
   "source": [
    "df[df.day == '2022-01-10'].event_type.head()"
   ]
  },
  {
   "cell_type": "markdown",
   "id": "7882f4c0",
   "metadata": {},
   "source": [
    "### Location stack & global contexts\n",
    "The location stack and global contexts are stored as JSON type data. Within the DataFrame, it is easy to \n",
    "access data in JSON data based on position or content."
   ]
  },
  {
   "cell_type": "markdown",
   "id": "cfc4c4ac",
   "metadata": {},
   "source": [
    "**Slicing the JSON data**  \n",
    "With the `.json[]` syntax you can slice the array using integers. Instead of integers, dictionaries can also be passed to 'query' the JSON array. If the passed dictionary matches a context object in the stack, all objects of the stack starting (or ending, depending on the slice) at that object will be returned.\n",
    "\n",
    "**An example**  \n",
    "Consider a JSON array that looks like this (this is a real example of a location stack):\n",
    "```json\n",
    "[{\"id\": \"docs\", \"_type\": \"RootLocationContext\"},\n",
    " {\"id\": \"docs-sidebar\", \"_type\": \"NavigationContext\"},\n",
    " {\"id\": \"API Reference\", \"_type\": \"ExpandableContext\"},\n",
    " {\"id\": \"DataFrame\", \"_type\": \"ExpandableContext\"},\n",
    " {\"id\": \"Overview\", \"_type\": \"LinkContext\"}]\n",
    "```\n",
    "**Regular slicing**\n",
    "```python\n",
    "df.location_stack.json[2:4]\n",
    "```\n",
    "For the example array it would return:\n",
    "```json\n",
    "[{\"id\": \"API Reference\", \"_type\": \"ExpandableContext\"},\n",
    " {\"id\": \"DataFrame\", \"_type\": \"ExpandableContext\"}]\n",
    "```\n",
    "**Slicing by querying**\n",
    "\n",
    "We want to return only the part of the array starting at the object that contain this object:\n",
    "```javascript\n",
    "{\"id\": \"docs-sidebar\", \"_type\": \"NavigationContext\"}\n",
    "```\n",
    "The syntax for selecting like this is: \n",
    "```python\n",
    "df.location_stack.json[{\"id\": \"docs-sidebar\", \"_type\": \"NavigationContext\"}:]\n",
    "```\n",
    "For the example array it would return:\n",
    "```json\n",
    "[{'id': 'docs-sidebar', '_type': 'NavigationContext'},\n",
    " {'id': 'API Reference', '_type': 'ExpandableContext'},\n",
    " {'id': 'DataFrame', '_type': 'ExpandableContext'},\n",
    " {'id': 'Overview', '_type': 'LinkContext'}]\n",
    "```\n",
    "In case a JSON array does not contain the object, `None` is returned. More info at the api reference: https://objectiv.io/docs/modeling/bach/api-reference/Series/Json/"
   ]
  },
  {
   "cell_type": "markdown",
   "id": "cf6d0e87",
   "metadata": {},
   "source": [
    "### `location_stack` column\n",
    "The `location_stack` column in the DataFrame stores the information on where an event exactly happened in the user interface. The example used above is the location stack of a link to the DataFrame API reference, in the menu on our documentation pages.\n",
    "\n",
    "Because of the specific way the location information is labeled, validated, and stored using the open analytics taxonomy, it can be used to easily slice and group your product's features. The column is set as an `objectiv_location_stack` type, and therefore location stack specific methods can be used to access the data from the `location_stack`. These [methods](https://objectiv.io/docs/modeling/bach/api-reference/Series/Json/) can be used using the `.ls` accessor on the column:\n",
    "* [`.ls.navigation_features`](https://objectiv.io/docs/modeling/open-model-hub/api-reference/SeriesLocationStack/ls/)\n",
    "* [`.ls.feature_stack`](https://objectiv.io/docs/modeling/open-model-hub/api-reference/SeriesLocationStack/ls/)\n",
    "* [`.ls.nice_name`](https://objectiv.io/docs/modeling/open-model-hub/api-reference/SeriesLocationStack/ls/)\n",
    "\n",
    "For example:\n",
    "```python\n",
    "df.location_stack.ls.nice_name\n",
    "```\n",
    "returns '*'Link: Overview located at Root Location: docs => Navigation: docs-sidebar => Expandable: API Reference => Expandable: DataFrame*' for the location stack mentioned above.\n",
    "\n",
    "[See the full reference of the location stack here](https://objectiv.io/docs/taxonomy/location-contexts/). An example location stack for a PressEvent is queried below:"
   ]
  },
  {
   "cell_type": "code",
   "execution_count": null,
   "id": "a74b5711",
   "metadata": {},
   "outputs": [],
   "source": [
    "df[df.event_type == 'PressEvent'].location_stack.head(1)[0]"
   ]
  },
  {
   "cell_type": "markdown",
   "id": "5ba58635",
   "metadata": {},
   "source": [
    "### Global contexts\n",
    "Global contexts contain all general information that is relevant to the logged event. To optimize data processing, not all data that is stored in the global contexts in the database is loaded into the DataFrame when it is created. Data columns are only created for the global contexts that are selected when the model hub is instantiated. In this example, those columns are `application` and `marketing`.\n",
    "\n",
    "Each selected global context is a JSON-like column of the 'objectiv_global_context' type, and therefore contains multiple key-value pairs. The data in these JSON columns can be accessed with the `context` accessor on the respective columns. For example to get the ID of the application as a Series, you use:\n",
    "\n",
    "```\n",
    "df.application.context.id\n",
    "```\n",
    "\n",
    "Similarly, the application ID can be set as regular (text) column in the DataFrame:\n",
    "\n",
    "```\n",
    "df['application_id'] = df.application.context.id\n",
    "```\n",
    "\n",
    "[See the full reference of all available global contexts in the open taxonomy here](https://objectiv.io/docs/taxonomy/global-contexts/). Each global context _always_ has an 'id' key that uniquely identifies the global context of that type. Additional keys are shown in the blocks of each context in the reference.\n",
    "\n",
    "From the marketing context, for example, we can therefore also get the 'source' as a column:\n",
    "\n",
    "```\n",
    "df['marketing_source'] = df.marketing.context.source\n",
    "```\n",
    "\n",
    "When instantiating the model hub, global contexts are added using the name of the context without the word\n",
    "'Context' and converted to 'snake_case' (the name of the context split before every capital letter and\n",
    "joined with an underscore), i.e. to add the HttpContext use 'http' and to add the InputValueContext use\n",
    "'input_value':\n",
    "\n",
    "```\n",
    "modelhub = ModelHub(global_contexts=['http', 'input_value'])\n",
    "```\n",
    "\n",
    "In the case you later want to add other data from the global contexts to your DataFrame, you will have to re-instantiate the model hub with those contexts and recreate the DataFrame. Note that no data has to be processed for recreating the DataFrame until the data gets queried (by using `.head()` or similar)."
   ]
  },
  {
   "cell_type": "code",
   "execution_count": null,
   "id": "ee25c73b",
   "metadata": {},
   "outputs": [],
   "source": [
    "# we create the columns from the examples above, and show the data.\n",
    "df['application_id'] = df.application.context.id\n",
    "df['marketing_source'] = df.marketing.context.source"
   ]
  },
  {
   "cell_type": "code",
   "execution_count": null,
   "id": "d79ea2a1",
   "metadata": {},
   "outputs": [],
   "source": [
    "# we can now show the columns where the marketing source is not null.\n",
    "df[df.marketing_source.notnull()][['application', 'marketing', 'application_id', 'marketing_source']].head()"
   ]
  },
  {
   "cell_type": "markdown",
   "id": "8a5cb357",
   "metadata": {},
   "source": [
    "### Reference\n",
    "* [bach.DataFrame.head](https://objectiv.io/docs/modeling/bach/api-reference/DataFrame/head/)\n",
    "* [bach.Series.notnull](https://objectiv.io/docs/modeling/bach/api-reference/Series/notnull/)"
   ]
  },
  {
   "cell_type": "markdown",
   "id": "ca0712a1",
   "metadata": {},
   "source": [
    "# Sampling\n",
    "One of the key features to Objectiv Bach is that it runs on your full dataset. There can, however, be situations where you want to experiment with your data, meaning you have to query the full dataset often, which can become slow and/or costly.\n",
    "\n",
    "To limit this, it's possible to do operations on a sample of the full dataset. All operations can easily be applied to the full dataset again at any time.\n",
    "\n",
    "Below we create a sample that randomly selects ~1% of all the rows in the data, using the [`get_sample()`](https://objectiv.io/docs/modeling/bach/api-reference/DataFrame/get_sample/) operation. A table containing the sampled is written to the database, therefore the `table_name` must be provided when creating the sample."
   ]
  },
  {
   "cell_type": "code",
   "execution_count": null,
   "id": "c11a0354",
   "metadata": {},
   "outputs": [],
   "source": [
    "# for BigQuery the table name should be 'YOUR_PROJECT.YOUR_WRITABLE_DATASET.YOUR_TABLE_NAME'\n",
    "df_sample = df.get_sample(table_name='sample_data', sample_percentage=10, overwrite=True)"
   ]
  },
  {
   "cell_type": "markdown",
   "id": "b77755c7",
   "metadata": {},
   "source": [
    "A new column is created in the sample."
   ]
  },
  {
   "cell_type": "code",
   "execution_count": null,
   "id": "af6ac7a1",
   "metadata": {},
   "outputs": [],
   "source": [
    "df_sample['root_location_contexts'] = df_sample.location_stack.json[:1]\n",
    "df_sample.sort_values('moment', ascending=False).head()"
   ]
  },
  {
   "cell_type": "markdown",
   "id": "4d30f5c1",
   "metadata": {},
   "source": [
    "Using the [`.get_unsampled()`](https://objectiv.io/docs/modeling/bach/api-reference/DataFrame/get_unsampled/) operation, the operations that are done on the sample (the creation of the column), are applied to the entire data set:"
   ]
  },
  {
   "cell_type": "code",
   "execution_count": null,
   "id": "e710607d",
   "metadata": {},
   "outputs": [],
   "source": [
    "df_unsampled = df_sample.get_unsampled()\n",
    "df_unsampled.sort_values('moment', ascending=False).head()"
   ]
  },
  {
   "cell_type": "markdown",
   "id": "21d3b4e8",
   "metadata": {},
   "source": [
    "The sample can also be used for grouping and aggregating. The example below counts all hits and the unique `event_types` in the sample:"
   ]
  },
  {
   "cell_type": "code",
   "execution_count": null,
   "id": "21a4f054",
   "metadata": {},
   "outputs": [],
   "source": [
    "df_sample_grouped = df_sample.groupby(['application_id']).agg({'event_type':'nunique','session_hit_number':'count'})\n",
    "df_sample_grouped.head()"
   ]
  },
  {
   "cell_type": "markdown",
   "id": "ca528c2d",
   "metadata": {},
   "source": [
    "As can be seen from the counts, unsampling applies the transformation to the entire data set:"
   ]
  },
  {
   "cell_type": "code",
   "execution_count": null,
   "id": "0aa6e731",
   "metadata": {},
   "outputs": [],
   "source": [
    "df_unsampled_grouped = df_sample_grouped.get_unsampled()\n",
    "df_unsampled_grouped.head()"
   ]
  },
  {
   "cell_type": "markdown",
   "id": "53e70b4f",
   "metadata": {},
   "source": [
    "### Reference\n",
    "* [bach.DataFrame.get_sample](https://objectiv.io/docs/modeling/bach/api-reference/DataFrame/get_sample/)\n",
    "* [bach.DataFrame.get_unsampled](https://objectiv.io/docs/modeling/bach/api-reference/DataFrame/get_unsampled/)\n",
    "* [bach.DataFrame.sort_values](https://objectiv.io/docs/modeling/bach/api-reference/DataFrame/sort_values/)\n",
    "* [bach.DataFrame.groupby](https://objectiv.io/docs/modeling/bach/api-reference/DataFrame/groupby/)\n",
    "* [bach.DataFrame.head](https://objectiv.io/docs/modeling/bach/api-reference/DataFrame/head/)"
   ]
  },
  {
   "cell_type": "markdown",
   "id": "2079ea8b",
   "metadata": {},
   "source": [
    "## Get the SQL for any analysis\n",
    "The SQL for any analysis can be exported with one command, so you can use models in production directly to simplify data debugging & delivery to BI tools like Metabase, dbt, etc. See how you can [quickly create BI dashboards with this](https://objectiv.io/docs/home/try-the-demo#creating-bi-dashboards)."
   ]
  },
  {
   "cell_type": "code",
   "execution_count": null,
   "id": "b603b800",
   "metadata": {},
   "outputs": [],
   "source": [
    "# show the underlying SQL for this dataframe - works for any dataframe/model in Objectiv\n",
    "display_sql_as_markdown(df_unsampled_grouped)"
   ]
  },
  {
   "cell_type": "markdown",
   "id": "86899ae3",
   "metadata": {},
   "source": [
    "## Where to go next\n",
    "To dive further into working with the open taxonomy, [see the Bach API reference](https://objectiv.io/docs/modeling/bach/api-reference/).\n",
    "\n",
    "You can also have a look at [the example notebook demonstrating the open model hub basics](https://objectiv.io/docs/modeling/example-notebooks/modelhub-basics/)."
   ]
  }
 ],
 "metadata": {
  "kernelspec": {
   "display_name": "Python 3 (ipykernel)",
   "language": "python",
   "name": "python3"
  },
  "language_info": {
   "codemirror_mode": {
    "name": "ipython",
    "version": 3
   },
   "file_extension": ".py",
   "mimetype": "text/x-python",
   "name": "python",
   "nbconvert_exporter": "python",
   "pygments_lexer": "ipython3",
   "version": "3.8.10"
  }
 },
 "nbformat": 4,
 "nbformat_minor": 5
}
