{
 "cells": [
  {
   "cell_type": "markdown",
   "id": "afb5dddf",
   "metadata": {},
   "source": [
    "This is one of the Objectiv example notebooks. For more examples visit the \n",
    "[example notebooks](https://objectiv.io/docs/modeling/example-notebooks/) section of our docs. The notebooks can run with the demo data set that comes with the our [quickstart](https://objectiv.io/docs/home/try-the-demo/), but can be used to run on your own collected data as well.\n",
    "\n",
    "All example notebooks are also available in our [quickstart](https://objectiv.io/docs/home/try-the-demo/). With the quickstart you can spin up a fully functional Objectiv demo pipeline in five minutes. This also allows you to run these notebooks and experiment with them on a demo data set."
   ]
  },
  {
   "cell_type": "markdown",
   "id": "990f0ae2-48cd-4220-8960-844af284fcce",
   "metadata": {},
   "source": [
    "# Basic user intent analysis"
   ]
  },
  {
   "cell_type": "markdown",
   "id": "fc19e049-754f-4c0e-8a5a-0ff89bdb7724",
   "metadata": {},
   "source": [
    "In this notebook, we briefly demonstrate how you can easily do basic user intent analysis on your data."
   ]
  },
  {
   "cell_type": "markdown",
   "id": "277e303e",
   "metadata": {},
   "source": [
    "## Getting started\n",
    "If you are running this example on your own collected data, [see the instructions here](https://objectiv.io/docs/modeling/get-started-in-your-notebook/) on how to setup the database connection and get started in your favorite notebook tool."
   ]
  },
  {
   "cell_type": "markdown",
   "id": "96aeea32",
   "metadata": {},
   "source": [
    "### Import the required packages for this notebook\n",
    "The open model hub package can be installed with `pip install objectiv-modelhub` (this installs Bach as well).  \n",
    "If you are running this notebook from our quickstart, the model hub and Bach are already installed, so you don't have to install it separately."
   ]
  },
  {
   "cell_type": "code",
   "execution_count": null,
   "id": "4bd369f6",
   "metadata": {},
   "outputs": [],
   "source": [
    "from modelhub import ModelHub, display_sql_as_markdown\n",
    "import bach\n",
    "import pandas as pd\n",
    "from datetime import timedelta"
   ]
  },
  {
   "cell_type": "markdown",
   "id": "765624df",
   "metadata": {},
   "source": [
    "We first have to instantiate the model hub and an Objectiv DataFrame object."
   ]
  },
  {
   "cell_type": "code",
   "execution_count": null,
   "id": "da4ec1a0",
   "metadata": {},
   "outputs": [],
   "source": [
    "# instantiate the model hub, set the default time aggregation to daily and get the application global context\n",
    "modelhub = ModelHub(time_aggregation='%Y-%m-%d', global_contexts=['application'])\n",
    "# get the Bach DataFrame with Objectiv data\n",
    "df = modelhub.get_objectiv_dataframe(start_date='2022-02-01', end_date='2022-05-01')"
   ]
  },
  {
   "cell_type": "markdown",
   "id": "a1b3f9b1",
   "metadata": {},
   "source": [
    "The `location_stack` column, and the columns taken from the global contexts, contain most of the event-specific data. These columns are JSON typed, and we can extract data from it using the keys of the JSON objects with [`SeriesLocationStack`](https://objectiv.io/docs/modeling/open-model-hub/api-reference/SeriesLocationStack/SeriesLocationStack/) methods, or the `context` accessor for global context columns. See the [open taxonomy example](open-taxonomy-how-to.ipynb#Location-stack-&-global-contexts) for how to use the `location_stack` and global contexts. "
   ]
  },
  {
   "cell_type": "code",
   "execution_count": null,
   "id": "4e130b67",
   "metadata": {},
   "outputs": [],
   "source": [
    "# adding specific contexts to the data as columns\n",
    "df['application_id'] = df.application.context.id\n",
    "df['root_location'] = df.location_stack.ls.get_from_context_with_type_series(type='RootLocationContext', key='id')"
   ]
  },
  {
   "cell_type": "markdown",
   "id": "03bfa810",
   "metadata": {},
   "source": [
    "## Exploring root location\n",
    "The `root_location` context in the `location_stack` uniquely represents the top-level UI location of the user. As a first step of grasping user intent, this is a good starting point to see in what main areas of your product users are spending time."
   ]
  },
  {
   "cell_type": "code",
   "execution_count": null,
   "id": "08ad4e39",
   "metadata": {},
   "outputs": [],
   "source": [
    "# model hub: unique users per application and root location\n",
    "users_root = modelhub.aggregate.unique_users(df, groupby=['application_id', 'root_location'])\n",
    "users_root.sort_index().head(10)"
   ]
  },
  {
   "cell_type": "markdown",
   "id": "0bd73ca7-5e52-4484-b88d-a7a41d63adcb",
   "metadata": {},
   "source": [
    "## Exploring session duration\n",
    "The average `session_duration` model from the [open model hub](https://objectiv.io/docs/modeling/open-model-hub/) is\n",
    "another good pointer to explore first for user intent."
   ]
  },
  {
   "cell_type": "code",
   "execution_count": null,
   "id": "ec9657db-fb10-4e96-9eb0-9cb16437cade",
   "metadata": {},
   "outputs": [],
   "source": [
    "# model hub: duration, per application and root location\n",
    "duration_root = modelhub.aggregate.session_duration(df, groupby=['application_id', 'root_location']).sort_index()\n",
    "duration_root.head(10)"
   ]
  },
  {
   "cell_type": "markdown",
   "id": "6fe1a096-9221-4f9f-99b6-79747c136d66",
   "metadata": {
    "tags": []
   },
   "source": [
    "Now, we can look at the distribution of time spent. We used the Bach `quantile` operation for this. We'll use this distribution to define the different stages of user intent.  "
   ]
  },
  {
   "cell_type": "code",
   "execution_count": null,
   "id": "1de87738",
   "metadata": {},
   "outputs": [],
   "source": [
    "# how is this time spent distributed?\n",
    "session_duration = modelhub.aggregate.session_duration(df, groupby='session_id')\n",
    "# materialization is needed because the expression of the created series contains aggregated data, \n",
    "# and it is not allowed to aggregate that.\n",
    "session_duration = session_duration.materialize()\n",
    "\n",
    "# show quantiles\n",
    "session_duration.quantile(q=[0.1, 0.2, 0.3, 0.4, 0.5, 0.6, 0.7, 0.8, 0.9]).head(10)"
   ]
  },
  {
   "cell_type": "markdown",
   "id": "aaa5a8f8-a7d4-4d50-b096-6af94421d802",
   "metadata": {},
   "source": [
    "## Defining different stages of user intent\n",
    "After exploring the `root_location` and `session_duration` (both per root location and quantiles), we can make a simple definition of different stages of user intent.\n",
    "\n",
    "Based on the objectiv.io website data in the quickstart:\n",
    "\n",
    "We think that users that spent most time (90th percentile) and specifically in our documentation sections are in the Implement phase of Objectiv. As there is a jump beyond the one minute mark at the 70th percentile, it feels sensible to deem that users beyond the 70th up to 90th perctile in our documentation sections are Exploring. The remaining users are Informing themselves about the product. Those users are spending less than 1:40 in the docs and/or spend any amount of time on our main website.\n",
    "\n",
    "| User intent | Root locations | Duration |\n",
    "| :--- | :--- | :--- |\n",
    "| 1 - Inform | *all sections other than the ones mentioned below* | *any time spent* |\n",
    "| 1 - Inform | Docs: modeling, taxonomy, tracking, home | less than 1:40 |\n",
    "| 2 - Explore | Docs: modeling, taxonomy, tracking, home | between 1:40 and 11:30 |\n",
    "| 3 - Implement | Docs: modeling, taxonomy, tracking, home | more than 11:30 | \n",
    "\n",
    "This is just for illustration purposes, you can adjust these definitions based on your own collected data. "
   ]
  },
  {
   "cell_type": "markdown",
   "id": "9fcd02ca-a9d4-4abe-96c9-c91ff167eb5d",
   "metadata": {},
   "source": [
    "## Assigning user intent\n",
    "Based on the definitions above, we can start assigning a stage of intent to each user. "
   ]
  },
  {
   "cell_type": "code",
   "execution_count": null,
   "id": "dc42e571",
   "metadata": {},
   "outputs": [],
   "source": [
    "# set the root locations that we will use based on the definitions above\n",
    "roots = bach.DataFrame.from_pandas(engine=df.engine, \n",
    "                                   df=pd.DataFrame({'roots': ['modeling', 'taxonomy', 'tracking', 'home', 'docs']}), \n",
    "                                   convert_objects=True).roots"
   ]
  },
  {
   "cell_type": "code",
   "execution_count": null,
   "id": "7fed9432",
   "metadata": {},
   "outputs": [],
   "source": [
    "# now we calculate the total time spent per _user_ and create a data frame from it\n",
    "user_intent_buckets = modelhub.agg.session_duration(df, \n",
    "                                                    groupby=['user_id'], \n",
    "                                                    method='sum',\n",
    "                                                    exclude_bounces=False).to_frame()"
   ]
  },
  {
   "cell_type": "code",
   "execution_count": null,
   "id": "1a50c279",
   "metadata": {},
   "outputs": [],
   "source": [
    "# same as above, but for selected roots only\n",
    "selector = (df.root_location.isin(roots)) & (df.application_id=='objectiv-docs')\n",
    "explore_inform_users_session_duration = modelhub.agg.session_duration(df[selector], groupby='user_id', method='sum')\n",
    "# and set it as column\n",
    "user_intent_buckets['explore_inform_duration'] = explore_inform_users_session_duration"
   ]
  },
  {
   "cell_type": "code",
   "execution_count": null,
   "id": "b00895a2",
   "metadata": {},
   "outputs": [],
   "source": [
    "# first, we set the Inform bucket as a catch-all, meaning users that do not fall into Explore and Implement will be defined as Inform\n",
    "user_intent_buckets['bucket'] = '1 - inform'"
   ]
  },
  {
   "cell_type": "code",
   "execution_count": null,
   "id": "bb0d48e3",
   "metadata": {},
   "outputs": [],
   "source": [
    "# calculate buckets duration\n",
    "user_intent_buckets.loc[(user_intent_buckets.explore_inform_duration >= timedelta(0, 100)) &\n",
    "                        (user_intent_buckets.explore_inform_duration <= timedelta(0, 690)), 'bucket'] = '2 - explore'\n",
    "\n",
    "user_intent_buckets.loc[user_intent_buckets.explore_inform_duration > timedelta(0, 690), 'bucket'] = '3 - implement'"
   ]
  },
  {
   "cell_type": "markdown",
   "id": "47be4fdb-0995-4b27-bcfd-ed609eb0ca30",
   "metadata": {},
   "source": [
    "Now, we have assigned intent to each user and can for example look at the total number of users per intent bucket."
   ]
  },
  {
   "cell_type": "code",
   "execution_count": null,
   "id": "d3537636",
   "metadata": {},
   "outputs": [],
   "source": [
    "# total number of users per intent bucket\n",
    "user_intent_buckets.reset_index().groupby('bucket').agg({'user_id': 'nunique'}).sort_index().head()"
   ]
  },
  {
   "cell_type": "markdown",
   "id": "aad18c25-b061-4790-9ce7-a7f633db2002",
   "metadata": {},
   "source": [
    "## What's next?"
   ]
  },
  {
   "cell_type": "markdown",
   "id": "a3c12031-e59c-4ddf-ad4e-b1239172e08e",
   "metadata": {},
   "source": [
    "The are many next possible analysis steps, for example:\n",
    "- What product features do each of the intent groups use? \n",
    "- What kind of intent users come from different marketing campaigns? \n",
    "- How can we drive more users to the 'Implement' stage? Look at different product features that users with the 'Implement' intent use, compared to 'Explore'.\n",
    "\n",
    "A good starting point for these analyses on top of the user intent buckets is the basic product analytics example in the [example notebooks](https://objectiv.io/docs/modeling/example-notebooks/)."
   ]
  },
  {
   "cell_type": "markdown",
   "id": "104eb315-83b7-4848-ab44-49c0f9478a66",
   "metadata": {
    "tags": []
   },
   "source": [
    "## Get the SQL for this user intent analysis\n",
    "The SQL for any analysis can be exported with one command, so you can use models in production directly to simplify data debugging & delivery to BI tools like Metabase, dbt, etc. See how you can [quickly create BI dashboards with this](https://objectiv.io/docs/home/try-the-demo#creating-bi-dashboards)."
   ]
  },
  {
   "cell_type": "code",
   "execution_count": null,
   "id": "e38addad-ba20-4a71-9cac-68f2dd077a25",
   "metadata": {},
   "outputs": [],
   "source": [
    "# get the SQL to use this analysis in for example your BI tooling\n",
    "display_sql_as_markdown(user_intent_buckets)"
   ]
  }
 ],
 "metadata": {
  "kernelspec": {
   "display_name": "Python 3 (ipykernel)",
   "language": "python",
   "name": "python3"
  },
  "language_info": {
   "codemirror_mode": {
    "name": "ipython",
    "version": 3
   },
   "file_extension": ".py",
   "mimetype": "text/x-python",
   "name": "python",
   "nbconvert_exporter": "python",
   "pygments_lexer": "ipython3",
   "version": "3.8.10"
  }
 },
 "nbformat": 4,
 "nbformat_minor": 5
}
