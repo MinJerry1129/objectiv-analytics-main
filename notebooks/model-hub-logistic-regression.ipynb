{
 "cells": [
  {
   "cell_type": "markdown",
   "id": "6166232a",
   "metadata": {},
   "source": [
    "This is one of the Objectiv example notebooks. For more examples visit the \n",
    "[example notebooks](https://objectiv.io/docs/modeling/example-notebooks/) section of our docs. The notebooks can run with the demo data set that comes with the our [quickstart](https://objectiv.io/docs/home/try-the-demo/), but can be used to run on your own collected data as well.\n",
    "\n",
    "All example notebooks are also available in our [quickstart](https://objectiv.io/docs/home/try-the-demo/). With the quickstart you can spin up a fully functional Objectiv demo pipeline in five minutes. This also allows you to run these notebooks and experiment with them on a demo data set."
   ]
  },
  {
   "cell_type": "markdown",
   "id": "3abc9081",
   "metadata": {},
   "source": [
    "The open model hub supports logistic regression on Bach data objects. A logistic regression model can be fitted, values can be predicted and results can be tested directly on the full data set in the database. Note that for fitting the model data is extracted from the database under the hood."
   ]
  },
  {
   "cell_type": "markdown",
   "id": "d0bf9d4f-5b3f-48ad-bc96-c23f5d38a0db",
   "metadata": {},
   "source": [
    "## Getting started\n",
    "If you are running this example on your own collected data, [see the instructions here](https://objectiv.io/docs/modeling/get-started-in-your-notebook/) on how to setup the database connection and get started in your favorite notebook tool."
   ]
  },
  {
   "cell_type": "markdown",
   "id": "096321a3",
   "metadata": {},
   "source": [
    "### Import the required packages for this notebook\n",
    "The open model hub package can be installed with `pip install objectiv-modelhub` (this installs Bach as well).  \n",
    "If you are running this notebook from our quickstart, the model hub and Bach are already installed, so you don't have to install it separately."
   ]
  },
  {
   "cell_type": "code",
   "execution_count": null,
   "id": "e97ff289",
   "metadata": {},
   "outputs": [],
   "source": [
    "from modelhub import ModelHub, display_sql_as_markdown"
   ]
  },
  {
   "cell_type": "markdown",
   "id": "1f896993",
   "metadata": {},
   "source": [
    "At first we have to instantiate the Objectiv DataFrame object and the model hub."
   ]
  },
  {
   "cell_type": "code",
   "execution_count": null,
   "id": "244807ee-c5b4-46b3-9850-bb69dcb33564",
   "metadata": {},
   "outputs": [],
   "source": [
    "# instantiate the model hub\n",
    "modelhub = ModelHub(time_aggregation='%Y-%m-%d')"
   ]
  },
  {
   "cell_type": "code",
   "execution_count": null,
   "id": "d582b77f",
   "metadata": {},
   "outputs": [],
   "source": [
    "# get the Bach DataFrame with Objectiv data\n",
    "df = modelhub.get_objectiv_dataframe(start_date='2022-02-15', end_date='2022-05-16')"
   ]
  },
  {
   "cell_type": "markdown",
   "id": "1cbc2b0d",
   "metadata": {},
   "source": [
    "### Creating a feature set to predict user behavior"
   ]
  },
  {
   "cell_type": "markdown",
   "id": "20c780fa",
   "metadata": {},
   "source": [
    "Data collected with Objectiv's tracker is [well-structured & consistent](https://objectiv.io/docs/taxonomy), which makes it ideal for various machine learning applications. Machine learning models can be applied directly without cleaning, transformations or using complex tooling. \n",
    "\n",
    "In this example, we show how you can predict user behavior with the supported logistic regression model. Examples of predictions that you can create:\n",
    "- Will a user convert?\n",
    "- Will a user start using a specific product feature or area?\n",
    "- Will a user have a long active session duration?\n",
    "\n",
    "For simple demonstration purposes, we will predict if users on our own [website](https://www.objectiv.io) will reach the [modeling section of our docs](https://objectiv.io/docs/modeling/), by looking at interactions that users have with all the other main sections of our website.\n",
    "\n",
    "We create a data set that counts the number of clicks per user in each section of our website. We obtain the main sections by extracting the [root location](https://objectiv.io/docs/taxonomy/reference/location-contexts/RootLocationContext/) from the location stack. It is similar data set to the one used in the ['Bach and sklearn'](https://objectiv.io/docs/modeling/example-notebooks/machine-learning/) example. Note that this is a small and simple data set used just for demonstration purposes of the logistic regression functionality, and not so much the model results itself. \n",
    "\n",
    "For the ins and outs on feature engineering see our [feature engineering example](https://objectiv.io/docs/modeling/example-notebooks/feature-engineering/)."
   ]
  },
  {
   "cell_type": "code",
   "execution_count": null,
   "id": "284d4b9f",
   "metadata": {},
   "outputs": [],
   "source": [
    "# extract the root location from the location stack\n",
    "df['root'] = df.location_stack.ls.get_from_context_with_type_series(type='RootLocationContext', key='id')\n",
    "\n",
    "# root series is later unstacked and its values might contain dashes\n",
    "# which are not allowed in BigQuery column names, lets replace them\n",
    "df['root'] = df['root'].str.replace('-', '_')"
   ]
  },
  {
   "cell_type": "code",
   "execution_count": null,
   "id": "83127b2b",
   "metadata": {},
   "outputs": [],
   "source": [
    "# only look at press events and count the root locations\n",
    "features = df[(df.event_type=='PressEvent')].groupby('user_id').root.value_counts()"
   ]
  },
  {
   "cell_type": "code",
   "execution_count": null,
   "id": "4225e176",
   "metadata": {},
   "outputs": [],
   "source": [
    "# unstack the series, to create a DataFrame with the number of clicks per root location as columns\n",
    "features_unstacked = features.unstack(fill_value=0)"
   ]
  },
  {
   "cell_type": "markdown",
   "id": "448a54de",
   "metadata": {},
   "source": [
    "#### Sample the data\n",
    "We take a 10% sample of the full data that we will use to train the model on. This limits data processing and speeds up the fitting procedure. \n",
    "\n",
    "After the model is fitted, it can be used to predict the labels for the _entire_ data set."
   ]
  },
  {
   "cell_type": "code",
   "execution_count": null,
   "id": "1318771d",
   "metadata": {},
   "outputs": [],
   "source": [
    "# for BigQuery the table name should be 'YOUR_PROJECT.YOUR_WRITABLE_DATASET.YOUR_TABLE_NAME'\n",
    "features_set_sample = features_unstacked.get_sample('test_lr_sample', sample_percentage=10, overwrite=True)"
   ]
  },
  {
   "cell_type": "markdown",
   "id": "810f5a23",
   "metadata": {},
   "source": [
    "Using a logistic regression we will predict whether a user clicked in the modeling section or not. We will predict this by the number of clicks in any of the other sections. `X` is a Bach DataFrame that contains the explanatory variables. `y` is a Bach SeriesBoolean with the labels we want to predict."
   ]
  },
  {
   "cell_type": "code",
   "execution_count": null,
   "id": "e5666a55",
   "metadata": {},
   "outputs": [],
   "source": [
    "y_column = 'modeling'\n",
    "y = features_set_sample[y_column] > 0\n",
    "X = features_set_sample.drop(columns=[y_column])"
   ]
  },
  {
   "cell_type": "markdown",
   "id": "37437a6f",
   "metadata": {},
   "source": [
    "Show the first lines of `X` and `y`. "
   ]
  },
  {
   "cell_type": "code",
   "execution_count": null,
   "id": "ced14b7d",
   "metadata": {},
   "outputs": [],
   "source": [
    "X.head()"
   ]
  },
  {
   "cell_type": "code",
   "execution_count": null,
   "id": "1b3e8066",
   "metadata": {},
   "outputs": [],
   "source": [
    "y.head()"
   ]
  },
  {
   "cell_type": "markdown",
   "id": "eb151986",
   "metadata": {},
   "source": [
    "### Instantiating the logistic regression model\n",
    "We can instantiate the logistic regression model from the model hub. Since the model is based on sklearn's version of LogisticRegression, it can be instantiated with any parameters that sklearn's LogisticRegression [supports](\n",
    "    https://scikit-learn.org/stable/modules/generated/sklearn.linear_model.LogisticRegression.html). In our example we instantiate it with ``fit_intercept=False``"
   ]
  },
  {
   "cell_type": "code",
   "execution_count": null,
   "id": "83e709fc",
   "metadata": {},
   "outputs": [],
   "source": [
    "lr = modelhub.get_logistic_regression(fit_intercept=False)"
   ]
  },
  {
   "cell_type": "markdown",
   "id": "309b525d",
   "metadata": {},
   "source": [
    "### Fitting the model\n",
    "The `fit` method fits a model to the passed data. This method extracts the data from the database under the hood."
   ]
  },
  {
   "cell_type": "code",
   "execution_count": null,
   "id": "26e7953e",
   "metadata": {},
   "outputs": [],
   "source": [
    "lr.fit(X, y)"
   ]
  },
  {
   "cell_type": "markdown",
   "id": "32d1f1e2",
   "metadata": {},
   "source": [
    "### Accuracy and predicting\n",
    "All following operations are carried out directly on the database. Therefore, they can be exported to SQL statements so it can be used in for example your BI tooling."
   ]
  },
  {
   "cell_type": "code",
   "execution_count": null,
   "id": "7d07122b",
   "metadata": {},
   "outputs": [],
   "source": [
    "lr.score(X, y)"
   ]
  },
  {
   "cell_type": "markdown",
   "id": "f123b3e2",
   "metadata": {},
   "source": [
    "The model has the same attributes as the Logistic Regression model from sklearn."
   ]
  },
  {
   "cell_type": "code",
   "execution_count": null,
   "id": "1262bc94",
   "metadata": {},
   "outputs": [],
   "source": [
    "# show the coefficients of the fitted model\n",
    "lr.coef_"
   ]
  },
  {
   "cell_type": "markdown",
   "id": "170dbab3",
   "metadata": {},
   "source": [
    "Create columns for the predicted values and labels in the sampled data set. Labels `True` if the probability is over .5."
   ]
  },
  {
   "cell_type": "code",
   "execution_count": null,
   "id": "32672b17",
   "metadata": {},
   "outputs": [],
   "source": [
    "features_set_sample['predicted_values'] = lr.predict_proba(X)\n",
    "features_set_sample['predicted_labels'] = lr.predict(X)"
   ]
  },
  {
   "cell_type": "code",
   "execution_count": null,
   "id": "598a910c",
   "metadata": {},
   "outputs": [],
   "source": [
    "# show the sampled data set, including predictions\n",
    "features_set_sample.head(20)"
   ]
  },
  {
   "cell_type": "markdown",
   "id": "2f54a055",
   "metadata": {},
   "source": [
    "### Unsample and view the SQL\n",
    "The data can be unsampled and viewed as an SQL statement. `features_set_full` and the SQL statement for this DataFrame are for the full unsampled data set including the predicted values."
   ]
  },
  {
   "cell_type": "code",
   "execution_count": null,
   "id": "072658d9",
   "metadata": {},
   "outputs": [],
   "source": [
    "features_set_full = features_set_sample.get_unsampled()"
   ]
  },
  {
   "cell_type": "markdown",
   "id": "42b3e806",
   "metadata": {},
   "source": [
    "Get the sql statement for the _full_ data set including the predicted values."
   ]
  },
  {
   "cell_type": "code",
   "execution_count": null,
   "id": "352e2c05",
   "metadata": {},
   "outputs": [],
   "source": [
    "display_sql_as_markdown(features_set_full)"
   ]
  },
  {
   "cell_type": "markdown",
   "id": "892c5ba1-d1c1-4878-88c6-290fd8ccb4a8",
   "metadata": {},
   "source": [
    "The SQL for any analysis can be exported with this one command, so you can use models in production directly to simplify data debugging & delivery to BI tools like Metabase, dbt, etc. See how you can [quickly create BI dashboards with this](https://objectiv.io/docs/home/try-the-demo#creating-bi-dashboards)."
   ]
  },
  {
   "cell_type": "markdown",
   "id": "23193849",
   "metadata": {},
   "source": [
    "This demonstrates the core functionality of the Logistic Regression model in the open model hub. Stay tuned for more metrics for assessing the fit of the model, as well as simplifying splitting the data into training and testing data sets."
   ]
  }
 ],
 "metadata": {
  "kernelspec": {
   "display_name": "Python 3 (ipykernel)",
   "language": "python",
   "name": "python3"
  },
  "language_info": {
   "codemirror_mode": {
    "name": "ipython",
    "version": 3
   },
   "file_extension": ".py",
   "mimetype": "text/x-python",
   "name": "python",
   "nbconvert_exporter": "python",
   "pygments_lexer": "ipython3",
   "version": "3.9.10"
  }
 },
 "nbformat": 4,
 "nbformat_minor": 5
}
